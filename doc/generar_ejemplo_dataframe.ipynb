{
 "cells": [
  {
   "cell_type": "code",
   "execution_count": 1,
   "metadata": {},
   "outputs": [],
   "source": [
    "import pandas as pd\n",
    "import numpy as np"
   ]
  },
  {
   "cell_type": "code",
   "execution_count": 54,
   "metadata": {},
   "outputs": [
    {
     "data": {
      "application/vnd.microsoft.datawrangler.viewer.v0+json": {
       "columns": [
        {
         "name": "index",
         "rawType": "int64",
         "type": "integer"
        },
        {
         "name": "x1",
         "rawType": "float64",
         "type": "float"
        },
        {
         "name": "x2",
         "rawType": "float64",
         "type": "float"
        },
        {
         "name": "x3",
         "rawType": "float64",
         "type": "float"
        },
        {
         "name": "y",
         "rawType": "object",
         "type": "string"
        }
       ],
       "conversionMethod": "pd.DataFrame",
       "ref": "a0b1966f-3103-46a1-8842-f6c8fea77ac6",
       "rows": [
        [
         "0",
         "4.2",
         "2.1",
         "2.5",
         "a"
        ],
        [
         "1",
         "0.7",
         "-3.7",
         "-2.3",
         "b"
        ],
        [
         "2",
         "-2.4",
         "-2.1",
         "4.0",
         "b"
        ],
        [
         "3",
         "0.3",
         "-1.5",
         "1.9",
         "c"
        ]
       ],
       "shape": {
        "columns": 4,
        "rows": 4
       }
      },
      "text/html": [
       "<div>\n",
       "<style scoped>\n",
       "    .dataframe tbody tr th:only-of-type {\n",
       "        vertical-align: middle;\n",
       "    }\n",
       "\n",
       "    .dataframe tbody tr th {\n",
       "        vertical-align: top;\n",
       "    }\n",
       "\n",
       "    .dataframe thead th {\n",
       "        text-align: right;\n",
       "    }\n",
       "</style>\n",
       "<table border=\"1\" class=\"dataframe\">\n",
       "  <thead>\n",
       "    <tr style=\"text-align: right;\">\n",
       "      <th></th>\n",
       "      <th>x1</th>\n",
       "      <th>x2</th>\n",
       "      <th>x3</th>\n",
       "      <th>y</th>\n",
       "    </tr>\n",
       "  </thead>\n",
       "  <tbody>\n",
       "    <tr>\n",
       "      <th>0</th>\n",
       "      <td>4.2</td>\n",
       "      <td>2.1</td>\n",
       "      <td>2.5</td>\n",
       "      <td>a</td>\n",
       "    </tr>\n",
       "    <tr>\n",
       "      <th>1</th>\n",
       "      <td>0.7</td>\n",
       "      <td>-3.7</td>\n",
       "      <td>-2.3</td>\n",
       "      <td>b</td>\n",
       "    </tr>\n",
       "    <tr>\n",
       "      <th>2</th>\n",
       "      <td>-2.4</td>\n",
       "      <td>-2.1</td>\n",
       "      <td>4.0</td>\n",
       "      <td>b</td>\n",
       "    </tr>\n",
       "    <tr>\n",
       "      <th>3</th>\n",
       "      <td>0.3</td>\n",
       "      <td>-1.5</td>\n",
       "      <td>1.9</td>\n",
       "      <td>c</td>\n",
       "    </tr>\n",
       "  </tbody>\n",
       "</table>\n",
       "</div>"
      ],
      "text/plain": [
       "    x1   x2   x3  y\n",
       "0  4.2  2.1  2.5  a\n",
       "1  0.7 -3.7 -2.3  b\n",
       "2 -2.4 -2.1  4.0  b\n",
       "3  0.3 -1.5  1.9  c"
      ]
     },
     "execution_count": 54,
     "metadata": {},
     "output_type": "execute_result"
    }
   ],
   "source": [
    "rng =  np.random.default_rng(314)\n",
    "x = np.round(rng.uniform(-5,5,(4,3)),1)\n",
    "datos = pd.DataFrame(\n",
    "    x,\n",
    "    columns=['x1','x2','x3']\n",
    ")\n",
    "datos ['y'] = ['a','b','b','c']\n",
    "datos"
   ]
  },
  {
   "cell_type": "code",
   "execution_count": 18,
   "metadata": {},
   "outputs": [
    {
     "data": {
      "text/plain": [
       "0    2.1\n",
       "1   -3.7\n",
       "2   -2.1\n",
       "3   -1.5\n",
       "Name: x2, dtype: float64"
      ]
     },
     "execution_count": 18,
     "metadata": {},
     "output_type": "execute_result"
    }
   ],
   "source": [
    "datos['x2']"
   ]
  },
  {
   "cell_type": "code",
   "execution_count": 21,
   "metadata": {},
   "outputs": [
    {
     "data": {
      "text/plain": [
       "pandas.core.frame.DataFrame"
      ]
     },
     "execution_count": 21,
     "metadata": {},
     "output_type": "execute_result"
    }
   ],
   "source": [
    "type(datos['x2'])\n",
    "type(datos[['x1','x2']])"
   ]
  },
  {
   "cell_type": "code",
   "execution_count": 22,
   "metadata": {},
   "outputs": [
    {
     "data": {
      "application/vnd.microsoft.datawrangler.viewer.v0+json": {
       "columns": [
        {
         "name": "index",
         "rawType": "int64",
         "type": "integer"
        },
        {
         "name": "x1",
         "rawType": "float64",
         "type": "float"
        },
        {
         "name": "x2",
         "rawType": "float64",
         "type": "float"
        }
       ],
       "conversionMethod": "pd.DataFrame",
       "ref": "31a38c67-129d-435f-ace3-3b73b8feb8e8",
       "rows": [
        [
         "0",
         "4.2",
         "2.1"
        ],
        [
         "1",
         "0.7",
         "-3.7"
        ],
        [
         "2",
         "-2.4",
         "-2.1"
        ],
        [
         "3",
         "0.3",
         "-1.5"
        ]
       ],
       "shape": {
        "columns": 2,
        "rows": 4
       }
      },
      "text/html": [
       "<div>\n",
       "<style scoped>\n",
       "    .dataframe tbody tr th:only-of-type {\n",
       "        vertical-align: middle;\n",
       "    }\n",
       "\n",
       "    .dataframe tbody tr th {\n",
       "        vertical-align: top;\n",
       "    }\n",
       "\n",
       "    .dataframe thead th {\n",
       "        text-align: right;\n",
       "    }\n",
       "</style>\n",
       "<table border=\"1\" class=\"dataframe\">\n",
       "  <thead>\n",
       "    <tr style=\"text-align: right;\">\n",
       "      <th></th>\n",
       "      <th>x1</th>\n",
       "      <th>x2</th>\n",
       "    </tr>\n",
       "  </thead>\n",
       "  <tbody>\n",
       "    <tr>\n",
       "      <th>0</th>\n",
       "      <td>4.2</td>\n",
       "      <td>2.1</td>\n",
       "    </tr>\n",
       "    <tr>\n",
       "      <th>1</th>\n",
       "      <td>0.7</td>\n",
       "      <td>-3.7</td>\n",
       "    </tr>\n",
       "    <tr>\n",
       "      <th>2</th>\n",
       "      <td>-2.4</td>\n",
       "      <td>-2.1</td>\n",
       "    </tr>\n",
       "    <tr>\n",
       "      <th>3</th>\n",
       "      <td>0.3</td>\n",
       "      <td>-1.5</td>\n",
       "    </tr>\n",
       "  </tbody>\n",
       "</table>\n",
       "</div>"
      ],
      "text/plain": [
       "    x1   x2\n",
       "0  4.2  2.1\n",
       "1  0.7 -3.7\n",
       "2 -2.4 -2.1\n",
       "3  0.3 -1.5"
      ]
     },
     "execution_count": 22,
     "metadata": {},
     "output_type": "execute_result"
    }
   ],
   "source": [
    "datos[['x1','x2']]\n"
   ]
  },
  {
   "cell_type": "code",
   "execution_count": 23,
   "metadata": {},
   "outputs": [
    {
     "data": {
      "application/vnd.microsoft.datawrangler.viewer.v0+json": {
       "columns": [
        {
         "name": "index",
         "rawType": "int64",
         "type": "integer"
        },
        {
         "name": "x1",
         "rawType": "float64",
         "type": "float"
        },
        {
         "name": "x2",
         "rawType": "float64",
         "type": "float"
        },
        {
         "name": "x3",
         "rawType": "float64",
         "type": "float"
        },
        {
         "name": "y",
         "rawType": "object",
         "type": "string"
        }
       ],
       "conversionMethod": "pd.DataFrame",
       "ref": "44091a7e-ecb3-4f1c-8737-b8ff6ac9d674",
       "rows": [
        [
         "1",
         "0.7",
         "-3.7",
         "-2.3",
         "b"
        ],
        [
         "2",
         "-2.4",
         "-2.1",
         "4.0",
         "b"
        ]
       ],
       "shape": {
        "columns": 4,
        "rows": 2
       }
      },
      "text/html": [
       "<div>\n",
       "<style scoped>\n",
       "    .dataframe tbody tr th:only-of-type {\n",
       "        vertical-align: middle;\n",
       "    }\n",
       "\n",
       "    .dataframe tbody tr th {\n",
       "        vertical-align: top;\n",
       "    }\n",
       "\n",
       "    .dataframe thead th {\n",
       "        text-align: right;\n",
       "    }\n",
       "</style>\n",
       "<table border=\"1\" class=\"dataframe\">\n",
       "  <thead>\n",
       "    <tr style=\"text-align: right;\">\n",
       "      <th></th>\n",
       "      <th>x1</th>\n",
       "      <th>x2</th>\n",
       "      <th>x3</th>\n",
       "      <th>y</th>\n",
       "    </tr>\n",
       "  </thead>\n",
       "  <tbody>\n",
       "    <tr>\n",
       "      <th>1</th>\n",
       "      <td>0.7</td>\n",
       "      <td>-3.7</td>\n",
       "      <td>-2.3</td>\n",
       "      <td>b</td>\n",
       "    </tr>\n",
       "    <tr>\n",
       "      <th>2</th>\n",
       "      <td>-2.4</td>\n",
       "      <td>-2.1</td>\n",
       "      <td>4.0</td>\n",
       "      <td>b</td>\n",
       "    </tr>\n",
       "  </tbody>\n",
       "</table>\n",
       "</div>"
      ],
      "text/plain": [
       "    x1   x2   x3  y\n",
       "1  0.7 -3.7 -2.3  b\n",
       "2 -2.4 -2.1  4.0  b"
      ]
     },
     "execution_count": 23,
     "metadata": {},
     "output_type": "execute_result"
    }
   ],
   "source": [
    "datos[[False,True,True,False]]"
   ]
  },
  {
   "cell_type": "code",
   "execution_count": 24,
   "metadata": {},
   "outputs": [
    {
     "data": {
      "application/vnd.microsoft.datawrangler.viewer.v0+json": {
       "columns": [
        {
         "name": "index",
         "rawType": "int64",
         "type": "integer"
        },
        {
         "name": "x1",
         "rawType": "float64",
         "type": "float"
        },
        {
         "name": "x2",
         "rawType": "float64",
         "type": "float"
        },
        {
         "name": "x3",
         "rawType": "float64",
         "type": "float"
        },
        {
         "name": "y",
         "rawType": "object",
         "type": "string"
        }
       ],
       "conversionMethod": "pd.DataFrame",
       "ref": "9fc4b5f5-4b39-48b5-bee5-7c4b52d27d61",
       "rows": [
        [
         "1",
         "0.7",
         "-3.7",
         "-2.3",
         "b"
        ],
        [
         "2",
         "-2.4",
         "-2.1",
         "4.0",
         "b"
        ]
       ],
       "shape": {
        "columns": 4,
        "rows": 2
       }
      },
      "text/html": [
       "<div>\n",
       "<style scoped>\n",
       "    .dataframe tbody tr th:only-of-type {\n",
       "        vertical-align: middle;\n",
       "    }\n",
       "\n",
       "    .dataframe tbody tr th {\n",
       "        vertical-align: top;\n",
       "    }\n",
       "\n",
       "    .dataframe thead th {\n",
       "        text-align: right;\n",
       "    }\n",
       "</style>\n",
       "<table border=\"1\" class=\"dataframe\">\n",
       "  <thead>\n",
       "    <tr style=\"text-align: right;\">\n",
       "      <th></th>\n",
       "      <th>x1</th>\n",
       "      <th>x2</th>\n",
       "      <th>x3</th>\n",
       "      <th>y</th>\n",
       "    </tr>\n",
       "  </thead>\n",
       "  <tbody>\n",
       "    <tr>\n",
       "      <th>1</th>\n",
       "      <td>0.7</td>\n",
       "      <td>-3.7</td>\n",
       "      <td>-2.3</td>\n",
       "      <td>b</td>\n",
       "    </tr>\n",
       "    <tr>\n",
       "      <th>2</th>\n",
       "      <td>-2.4</td>\n",
       "      <td>-2.1</td>\n",
       "      <td>4.0</td>\n",
       "      <td>b</td>\n",
       "    </tr>\n",
       "  </tbody>\n",
       "</table>\n",
       "</div>"
      ],
      "text/plain": [
       "    x1   x2   x3  y\n",
       "1  0.7 -3.7 -2.3  b\n",
       "2 -2.4 -2.1  4.0  b"
      ]
     },
     "execution_count": 24,
     "metadata": {},
     "output_type": "execute_result"
    }
   ],
   "source": [
    "datos[datos['y'] == 'b']"
   ]
  },
  {
   "cell_type": "code",
   "execution_count": 27,
   "metadata": {},
   "outputs": [
    {
     "data": {
      "application/vnd.microsoft.datawrangler.viewer.v0+json": {
       "columns": [
        {
         "name": "index",
         "rawType": "int64",
         "type": "integer"
        },
        {
         "name": "x1",
         "rawType": "float64",
         "type": "float"
        },
        {
         "name": "x2",
         "rawType": "float64",
         "type": "float"
        },
        {
         "name": "x3",
         "rawType": "float64",
         "type": "float"
        }
       ],
       "conversionMethod": "pd.DataFrame",
       "ref": "adfd85d1-cf04-4f31-ab0f-50694ccbf7d6",
       "rows": [
        [
         "0",
         "4.2",
         "2.1",
         "2.5"
        ],
        [
         "1",
         "0.7",
         "-3.7",
         "-2.3"
        ],
        [
         "2",
         "-2.4",
         "-2.1",
         "4.0"
        ],
        [
         "3",
         "0.3",
         "-1.5",
         "1.9"
        ]
       ],
       "shape": {
        "columns": 3,
        "rows": 4
       }
      },
      "text/html": [
       "<div>\n",
       "<style scoped>\n",
       "    .dataframe tbody tr th:only-of-type {\n",
       "        vertical-align: middle;\n",
       "    }\n",
       "\n",
       "    .dataframe tbody tr th {\n",
       "        vertical-align: top;\n",
       "    }\n",
       "\n",
       "    .dataframe thead th {\n",
       "        text-align: right;\n",
       "    }\n",
       "</style>\n",
       "<table border=\"1\" class=\"dataframe\">\n",
       "  <thead>\n",
       "    <tr style=\"text-align: right;\">\n",
       "      <th></th>\n",
       "      <th>x1</th>\n",
       "      <th>x2</th>\n",
       "      <th>x3</th>\n",
       "    </tr>\n",
       "  </thead>\n",
       "  <tbody>\n",
       "    <tr>\n",
       "      <th>0</th>\n",
       "      <td>4.2</td>\n",
       "      <td>2.1</td>\n",
       "      <td>2.5</td>\n",
       "    </tr>\n",
       "    <tr>\n",
       "      <th>1</th>\n",
       "      <td>0.7</td>\n",
       "      <td>-3.7</td>\n",
       "      <td>-2.3</td>\n",
       "    </tr>\n",
       "    <tr>\n",
       "      <th>2</th>\n",
       "      <td>-2.4</td>\n",
       "      <td>-2.1</td>\n",
       "      <td>4.0</td>\n",
       "    </tr>\n",
       "    <tr>\n",
       "      <th>3</th>\n",
       "      <td>0.3</td>\n",
       "      <td>-1.5</td>\n",
       "      <td>1.9</td>\n",
       "    </tr>\n",
       "  </tbody>\n",
       "</table>\n",
       "</div>"
      ],
      "text/plain": [
       "    x1   x2   x3\n",
       "0  4.2  2.1  2.5\n",
       "1  0.7 -3.7 -2.3\n",
       "2 -2.4 -2.1  4.0\n",
       "3  0.3 -1.5  1.9"
      ]
     },
     "execution_count": 27,
     "metadata": {},
     "output_type": "execute_result"
    }
   ],
   "source": [
    "datos.loc[:,['x1','x2','x3']]\n",
    "datos.loc[:,[True,True,True,False]]"
   ]
  },
  {
   "cell_type": "code",
   "execution_count": 28,
   "metadata": {},
   "outputs": [
    {
     "data": {
      "application/vnd.microsoft.datawrangler.viewer.v0+json": {
       "columns": [
        {
         "name": "index",
         "rawType": "int64",
         "type": "integer"
        },
        {
         "name": "x1",
         "rawType": "float64",
         "type": "float"
        },
        {
         "name": "x2",
         "rawType": "float64",
         "type": "float"
        },
        {
         "name": "x3",
         "rawType": "float64",
         "type": "float"
        }
       ],
       "conversionMethod": "pd.DataFrame",
       "ref": "585083f6-d950-4050-b784-46b0ebef1b27",
       "rows": [
        [
         "1",
         "0.7",
         "-3.7",
         "-2.3"
        ],
        [
         "2",
         "-2.4",
         "-2.1",
         "4.0"
        ]
       ],
       "shape": {
        "columns": 3,
        "rows": 2
       }
      },
      "text/html": [
       "<div>\n",
       "<style scoped>\n",
       "    .dataframe tbody tr th:only-of-type {\n",
       "        vertical-align: middle;\n",
       "    }\n",
       "\n",
       "    .dataframe tbody tr th {\n",
       "        vertical-align: top;\n",
       "    }\n",
       "\n",
       "    .dataframe thead th {\n",
       "        text-align: right;\n",
       "    }\n",
       "</style>\n",
       "<table border=\"1\" class=\"dataframe\">\n",
       "  <thead>\n",
       "    <tr style=\"text-align: right;\">\n",
       "      <th></th>\n",
       "      <th>x1</th>\n",
       "      <th>x2</th>\n",
       "      <th>x3</th>\n",
       "    </tr>\n",
       "  </thead>\n",
       "  <tbody>\n",
       "    <tr>\n",
       "      <th>1</th>\n",
       "      <td>0.7</td>\n",
       "      <td>-3.7</td>\n",
       "      <td>-2.3</td>\n",
       "    </tr>\n",
       "    <tr>\n",
       "      <th>2</th>\n",
       "      <td>-2.4</td>\n",
       "      <td>-2.1</td>\n",
       "      <td>4.0</td>\n",
       "    </tr>\n",
       "  </tbody>\n",
       "</table>\n",
       "</div>"
      ],
      "text/plain": [
       "    x1   x2   x3\n",
       "1  0.7 -3.7 -2.3\n",
       "2 -2.4 -2.1  4.0"
      ]
     },
     "execution_count": 28,
     "metadata": {},
     "output_type": "execute_result"
    }
   ],
   "source": [
    "datos.loc[datos['y'] == 'b',['x1','x2','x3']]"
   ]
  },
  {
   "cell_type": "code",
   "execution_count": 29,
   "metadata": {},
   "outputs": [
    {
     "data": {
      "application/vnd.microsoft.datawrangler.viewer.v0+json": {
       "columns": [
        {
         "name": "index",
         "rawType": "int64",
         "type": "integer"
        },
        {
         "name": "x1",
         "rawType": "float64",
         "type": "float"
        },
        {
         "name": "x2",
         "rawType": "float64",
         "type": "float"
        },
        {
         "name": "x3",
         "rawType": "float64",
         "type": "float"
        }
       ],
       "conversionMethod": "pd.DataFrame",
       "ref": "1a6f22d3-0c71-45b5-a109-557f2ed621e7",
       "rows": [
        [
         "0",
         "4.2",
         "2.1",
         "2.5"
        ],
        [
         "1",
         "0.7",
         "-3.7",
         "-2.3"
        ],
        [
         "2",
         "-2.4",
         "-2.1",
         "4.0"
        ],
        [
         "3",
         "0.3",
         "-1.5",
         "1.9"
        ]
       ],
       "shape": {
        "columns": 3,
        "rows": 4
       }
      },
      "text/html": [
       "<div>\n",
       "<style scoped>\n",
       "    .dataframe tbody tr th:only-of-type {\n",
       "        vertical-align: middle;\n",
       "    }\n",
       "\n",
       "    .dataframe tbody tr th {\n",
       "        vertical-align: top;\n",
       "    }\n",
       "\n",
       "    .dataframe thead th {\n",
       "        text-align: right;\n",
       "    }\n",
       "</style>\n",
       "<table border=\"1\" class=\"dataframe\">\n",
       "  <thead>\n",
       "    <tr style=\"text-align: right;\">\n",
       "      <th></th>\n",
       "      <th>x1</th>\n",
       "      <th>x2</th>\n",
       "      <th>x3</th>\n",
       "    </tr>\n",
       "  </thead>\n",
       "  <tbody>\n",
       "    <tr>\n",
       "      <th>0</th>\n",
       "      <td>4.2</td>\n",
       "      <td>2.1</td>\n",
       "      <td>2.5</td>\n",
       "    </tr>\n",
       "    <tr>\n",
       "      <th>1</th>\n",
       "      <td>0.7</td>\n",
       "      <td>-3.7</td>\n",
       "      <td>-2.3</td>\n",
       "    </tr>\n",
       "    <tr>\n",
       "      <th>2</th>\n",
       "      <td>-2.4</td>\n",
       "      <td>-2.1</td>\n",
       "      <td>4.0</td>\n",
       "    </tr>\n",
       "    <tr>\n",
       "      <th>3</th>\n",
       "      <td>0.3</td>\n",
       "      <td>-1.5</td>\n",
       "      <td>1.9</td>\n",
       "    </tr>\n",
       "  </tbody>\n",
       "</table>\n",
       "</div>"
      ],
      "text/plain": [
       "    x1   x2   x3\n",
       "0  4.2  2.1  2.5\n",
       "1  0.7 -3.7 -2.3\n",
       "2 -2.4 -2.1  4.0\n",
       "3  0.3 -1.5  1.9"
      ]
     },
     "execution_count": 29,
     "metadata": {},
     "output_type": "execute_result"
    }
   ],
   "source": [
    "datos.iloc[:,[0,1,2]]"
   ]
  },
  {
   "cell_type": "code",
   "execution_count": 30,
   "metadata": {},
   "outputs": [
    {
     "data": {
      "application/vnd.microsoft.datawrangler.viewer.v0+json": {
       "columns": [
        {
         "name": "index",
         "rawType": "int64",
         "type": "integer"
        },
        {
         "name": "x1",
         "rawType": "float64",
         "type": "float"
        },
        {
         "name": "x2",
         "rawType": "float64",
         "type": "float"
        },
        {
         "name": "x3",
         "rawType": "float64",
         "type": "float"
        }
       ],
       "conversionMethod": "pd.DataFrame",
       "ref": "b9fdddf1-a154-4c17-82bc-d589b297f775",
       "rows": [
        [
         "1",
         "0.7",
         "-3.7",
         "-2.3"
        ],
        [
         "2",
         "-2.4",
         "-2.1",
         "4.0"
        ]
       ],
       "shape": {
        "columns": 3,
        "rows": 2
       }
      },
      "text/html": [
       "<div>\n",
       "<style scoped>\n",
       "    .dataframe tbody tr th:only-of-type {\n",
       "        vertical-align: middle;\n",
       "    }\n",
       "\n",
       "    .dataframe tbody tr th {\n",
       "        vertical-align: top;\n",
       "    }\n",
       "\n",
       "    .dataframe thead th {\n",
       "        text-align: right;\n",
       "    }\n",
       "</style>\n",
       "<table border=\"1\" class=\"dataframe\">\n",
       "  <thead>\n",
       "    <tr style=\"text-align: right;\">\n",
       "      <th></th>\n",
       "      <th>x1</th>\n",
       "      <th>x2</th>\n",
       "      <th>x3</th>\n",
       "    </tr>\n",
       "  </thead>\n",
       "  <tbody>\n",
       "    <tr>\n",
       "      <th>1</th>\n",
       "      <td>0.7</td>\n",
       "      <td>-3.7</td>\n",
       "      <td>-2.3</td>\n",
       "    </tr>\n",
       "    <tr>\n",
       "      <th>2</th>\n",
       "      <td>-2.4</td>\n",
       "      <td>-2.1</td>\n",
       "      <td>4.0</td>\n",
       "    </tr>\n",
       "  </tbody>\n",
       "</table>\n",
       "</div>"
      ],
      "text/plain": [
       "    x1   x2   x3\n",
       "1  0.7 -3.7 -2.3\n",
       "2 -2.4 -2.1  4.0"
      ]
     },
     "execution_count": 30,
     "metadata": {},
     "output_type": "execute_result"
    }
   ],
   "source": [
    "datos.iloc[[1,2], [0,1,2]]"
   ]
  },
  {
   "cell_type": "code",
   "execution_count": 37,
   "metadata": {},
   "outputs": [
    {
     "data": {
      "application/vnd.microsoft.datawrangler.viewer.v0+json": {
       "columns": [
        {
         "name": "index",
         "rawType": "int64",
         "type": "integer"
        },
        {
         "name": "x1",
         "rawType": "float64",
         "type": "float"
        },
        {
         "name": "x2",
         "rawType": "float64",
         "type": "float"
        },
        {
         "name": "x3",
         "rawType": "float64",
         "type": "float"
        },
        {
         "name": "y",
         "rawType": "object",
         "type": "string"
        }
       ],
       "conversionMethod": "pd.DataFrame",
       "ref": "c3a38313-f8c5-41b2-b589-55e39cb047cc",
       "rows": [
        [
         "0",
         "4.2",
         "2.1",
         "2.5",
         "a"
        ],
        [
         "1",
         "0.7",
         "-3.7",
         "-2.3",
         "b"
        ],
        [
         "2",
         "-2.4",
         "-2.1",
         "4.0",
         "b"
        ],
        [
         "3",
         "0.3",
         "-1.5",
         "1.9",
         "c"
        ]
       ],
       "shape": {
        "columns": 4,
        "rows": 4
       }
      },
      "text/html": [
       "<div>\n",
       "<style scoped>\n",
       "    .dataframe tbody tr th:only-of-type {\n",
       "        vertical-align: middle;\n",
       "    }\n",
       "\n",
       "    .dataframe tbody tr th {\n",
       "        vertical-align: top;\n",
       "    }\n",
       "\n",
       "    .dataframe thead th {\n",
       "        text-align: right;\n",
       "    }\n",
       "</style>\n",
       "<table border=\"1\" class=\"dataframe\">\n",
       "  <thead>\n",
       "    <tr style=\"text-align: right;\">\n",
       "      <th></th>\n",
       "      <th>x1</th>\n",
       "      <th>x2</th>\n",
       "      <th>x3</th>\n",
       "      <th>y</th>\n",
       "    </tr>\n",
       "  </thead>\n",
       "  <tbody>\n",
       "    <tr>\n",
       "      <th>0</th>\n",
       "      <td>4.2</td>\n",
       "      <td>2.1</td>\n",
       "      <td>2.5</td>\n",
       "      <td>a</td>\n",
       "    </tr>\n",
       "    <tr>\n",
       "      <th>1</th>\n",
       "      <td>0.7</td>\n",
       "      <td>-3.7</td>\n",
       "      <td>-2.3</td>\n",
       "      <td>b</td>\n",
       "    </tr>\n",
       "    <tr>\n",
       "      <th>2</th>\n",
       "      <td>-2.4</td>\n",
       "      <td>-2.1</td>\n",
       "      <td>4.0</td>\n",
       "      <td>b</td>\n",
       "    </tr>\n",
       "    <tr>\n",
       "      <th>3</th>\n",
       "      <td>0.3</td>\n",
       "      <td>-1.5</td>\n",
       "      <td>1.9</td>\n",
       "      <td>c</td>\n",
       "    </tr>\n",
       "  </tbody>\n",
       "</table>\n",
       "</div>"
      ],
      "text/plain": [
       "    x1   x2   x3  y\n",
       "0  4.2  2.1  2.5  a\n",
       "1  0.7 -3.7 -2.3  b\n",
       "2 -2.4 -2.1  4.0  b\n",
       "3  0.3 -1.5  1.9  c"
      ]
     },
     "execution_count": 37,
     "metadata": {},
     "output_type": "execute_result"
    }
   ],
   "source": [
    "datos"
   ]
  },
  {
   "cell_type": "code",
   "execution_count": 39,
   "metadata": {},
   "outputs": [
    {
     "data": {
      "application/vnd.microsoft.datawrangler.viewer.v0+json": {
       "columns": [
        {
         "name": "index",
         "rawType": "int64",
         "type": "integer"
        },
        {
         "name": "x1",
         "rawType": "float64",
         "type": "float"
        },
        {
         "name": "x2",
         "rawType": "float64",
         "type": "float"
        },
        {
         "name": "x3",
         "rawType": "float64",
         "type": "float"
        },
        {
         "name": "y",
         "rawType": "object",
         "type": "string"
        }
       ],
       "conversionMethod": "pd.DataFrame",
       "ref": "7c02f856-a061-4071-a300-e47dcde19880",
       "rows": [
        [
         "2",
         "-2.4",
         "-2.1",
         "4.0",
         "b"
        ],
        [
         "3",
         "0.3",
         "-1.5",
         "1.9",
         "c"
        ],
        [
         "1",
         "0.7",
         "-3.7",
         "-2.3",
         "b"
        ],
        [
         "0",
         "4.2",
         "2.1",
         "2.5",
         "a"
        ]
       ],
       "shape": {
        "columns": 4,
        "rows": 4
       }
      },
      "text/html": [
       "<div>\n",
       "<style scoped>\n",
       "    .dataframe tbody tr th:only-of-type {\n",
       "        vertical-align: middle;\n",
       "    }\n",
       "\n",
       "    .dataframe tbody tr th {\n",
       "        vertical-align: top;\n",
       "    }\n",
       "\n",
       "    .dataframe thead th {\n",
       "        text-align: right;\n",
       "    }\n",
       "</style>\n",
       "<table border=\"1\" class=\"dataframe\">\n",
       "  <thead>\n",
       "    <tr style=\"text-align: right;\">\n",
       "      <th></th>\n",
       "      <th>x1</th>\n",
       "      <th>x2</th>\n",
       "      <th>x3</th>\n",
       "      <th>y</th>\n",
       "    </tr>\n",
       "  </thead>\n",
       "  <tbody>\n",
       "    <tr>\n",
       "      <th>2</th>\n",
       "      <td>-2.4</td>\n",
       "      <td>-2.1</td>\n",
       "      <td>4.0</td>\n",
       "      <td>b</td>\n",
       "    </tr>\n",
       "    <tr>\n",
       "      <th>3</th>\n",
       "      <td>0.3</td>\n",
       "      <td>-1.5</td>\n",
       "      <td>1.9</td>\n",
       "      <td>c</td>\n",
       "    </tr>\n",
       "    <tr>\n",
       "      <th>1</th>\n",
       "      <td>0.7</td>\n",
       "      <td>-3.7</td>\n",
       "      <td>-2.3</td>\n",
       "      <td>b</td>\n",
       "    </tr>\n",
       "    <tr>\n",
       "      <th>0</th>\n",
       "      <td>4.2</td>\n",
       "      <td>2.1</td>\n",
       "      <td>2.5</td>\n",
       "      <td>a</td>\n",
       "    </tr>\n",
       "  </tbody>\n",
       "</table>\n",
       "</div>"
      ],
      "text/plain": [
       "    x1   x2   x3  y\n",
       "2 -2.4 -2.1  4.0  b\n",
       "3  0.3 -1.5  1.9  c\n",
       "1  0.7 -3.7 -2.3  b\n",
       "0  4.2  2.1  2.5  a"
      ]
     },
     "execution_count": 39,
     "metadata": {},
     "output_type": "execute_result"
    }
   ],
   "source": [
    "datos2 = datos.sort_values('x1')\n",
    "datos2"
   ]
  },
  {
   "cell_type": "code",
   "execution_count": 40,
   "metadata": {},
   "outputs": [
    {
     "data": {
      "text/plain": [
       "x1    4.2\n",
       "x2    2.1\n",
       "x3    2.5\n",
       "y       a\n",
       "Name: 0, dtype: object"
      ]
     },
     "execution_count": 40,
     "metadata": {},
     "output_type": "execute_result"
    }
   ],
   "source": [
    "datos2.loc[0,:]"
   ]
  },
  {
   "cell_type": "code",
   "execution_count": 41,
   "metadata": {},
   "outputs": [
    {
     "data": {
      "text/plain": [
       "x1   -2.4\n",
       "x2   -2.1\n",
       "x3    4.0\n",
       "y       b\n",
       "Name: 2, dtype: object"
      ]
     },
     "execution_count": 41,
     "metadata": {},
     "output_type": "execute_result"
    }
   ],
   "source": [
    "datos2.iloc[0,:]"
   ]
  },
  {
   "cell_type": "code",
   "execution_count": 44,
   "metadata": {},
   "outputs": [
    {
     "data": {
      "application/vnd.microsoft.datawrangler.viewer.v0+json": {
       "columns": [
        {
         "name": "index",
         "rawType": "object",
         "type": "string"
        },
        {
         "name": "x1",
         "rawType": "float64",
         "type": "float"
        },
        {
         "name": "x2",
         "rawType": "float64",
         "type": "float"
        },
        {
         "name": "x3",
         "rawType": "float64",
         "type": "float"
        },
        {
         "name": "y",
         "rawType": "object",
         "type": "string"
        }
       ],
       "conversionMethod": "pd.DataFrame",
       "ref": "e8b6bf0a-e9b6-4c64-9be8-125f71405233",
       "rows": [
        [
         "a1",
         "4.2",
         "2.1",
         "2.5",
         "a"
        ],
        [
         "a2",
         "0.7",
         "-3.7",
         "-2.3",
         "b"
        ],
        [
         "a3",
         "-2.4",
         "-2.1",
         "4.0",
         "b"
        ],
        [
         "a4",
         "0.3",
         "-1.5",
         "1.9",
         "c"
        ]
       ],
       "shape": {
        "columns": 4,
        "rows": 4
       }
      },
      "text/html": [
       "<div>\n",
       "<style scoped>\n",
       "    .dataframe tbody tr th:only-of-type {\n",
       "        vertical-align: middle;\n",
       "    }\n",
       "\n",
       "    .dataframe tbody tr th {\n",
       "        vertical-align: top;\n",
       "    }\n",
       "\n",
       "    .dataframe thead th {\n",
       "        text-align: right;\n",
       "    }\n",
       "</style>\n",
       "<table border=\"1\" class=\"dataframe\">\n",
       "  <thead>\n",
       "    <tr style=\"text-align: right;\">\n",
       "      <th></th>\n",
       "      <th>x1</th>\n",
       "      <th>x2</th>\n",
       "      <th>x3</th>\n",
       "      <th>y</th>\n",
       "    </tr>\n",
       "  </thead>\n",
       "  <tbody>\n",
       "    <tr>\n",
       "      <th>a1</th>\n",
       "      <td>4.2</td>\n",
       "      <td>2.1</td>\n",
       "      <td>2.5</td>\n",
       "      <td>a</td>\n",
       "    </tr>\n",
       "    <tr>\n",
       "      <th>a2</th>\n",
       "      <td>0.7</td>\n",
       "      <td>-3.7</td>\n",
       "      <td>-2.3</td>\n",
       "      <td>b</td>\n",
       "    </tr>\n",
       "    <tr>\n",
       "      <th>a3</th>\n",
       "      <td>-2.4</td>\n",
       "      <td>-2.1</td>\n",
       "      <td>4.0</td>\n",
       "      <td>b</td>\n",
       "    </tr>\n",
       "    <tr>\n",
       "      <th>a4</th>\n",
       "      <td>0.3</td>\n",
       "      <td>-1.5</td>\n",
       "      <td>1.9</td>\n",
       "      <td>c</td>\n",
       "    </tr>\n",
       "  </tbody>\n",
       "</table>\n",
       "</div>"
      ],
      "text/plain": [
       "     x1   x2   x3  y\n",
       "a1  4.2  2.1  2.5  a\n",
       "a2  0.7 -3.7 -2.3  b\n",
       "a3 -2.4 -2.1  4.0  b\n",
       "a4  0.3 -1.5  1.9  c"
      ]
     },
     "execution_count": 44,
     "metadata": {},
     "output_type": "execute_result"
    }
   ],
   "source": [
    "datos.index = ['a1','a2','a3','a4']\n",
    "datos"
   ]
  },
  {
   "cell_type": "code",
   "execution_count": 48,
   "metadata": {},
   "outputs": [
    {
     "data": {
      "application/vnd.microsoft.datawrangler.viewer.v0+json": {
       "columns": [
        {
         "name": "index",
         "rawType": "object",
         "type": "string"
        },
        {
         "name": "x1",
         "rawType": "float64",
         "type": "float"
        },
        {
         "name": "x2",
         "rawType": "float64",
         "type": "float"
        },
        {
         "name": "x3",
         "rawType": "float64",
         "type": "float"
        },
        {
         "name": "y",
         "rawType": "object",
         "type": "string"
        }
       ],
       "conversionMethod": "pd.DataFrame",
       "ref": "75cbe38e-38f9-414c-b416-1a4d812d76c2",
       "rows": [
        [
         "a1",
         "4.2",
         "2.1",
         "2.5",
         "a"
        ],
        [
         "a2",
         "0.7",
         "-3.7",
         "-2.3",
         "Changed"
        ],
        [
         "a3",
         "-2.4",
         "-2.1",
         "4.0",
         "b"
        ],
        [
         "a4",
         "0.3",
         "-1.5",
         "1.9",
         "Changed"
        ]
       ],
       "shape": {
        "columns": 4,
        "rows": 4
       }
      },
      "text/html": [
       "<div>\n",
       "<style scoped>\n",
       "    .dataframe tbody tr th:only-of-type {\n",
       "        vertical-align: middle;\n",
       "    }\n",
       "\n",
       "    .dataframe tbody tr th {\n",
       "        vertical-align: top;\n",
       "    }\n",
       "\n",
       "    .dataframe thead th {\n",
       "        text-align: right;\n",
       "    }\n",
       "</style>\n",
       "<table border=\"1\" class=\"dataframe\">\n",
       "  <thead>\n",
       "    <tr style=\"text-align: right;\">\n",
       "      <th></th>\n",
       "      <th>x1</th>\n",
       "      <th>x2</th>\n",
       "      <th>x3</th>\n",
       "      <th>y</th>\n",
       "    </tr>\n",
       "  </thead>\n",
       "  <tbody>\n",
       "    <tr>\n",
       "      <th>a1</th>\n",
       "      <td>4.2</td>\n",
       "      <td>2.1</td>\n",
       "      <td>2.5</td>\n",
       "      <td>a</td>\n",
       "    </tr>\n",
       "    <tr>\n",
       "      <th>a2</th>\n",
       "      <td>0.7</td>\n",
       "      <td>-3.7</td>\n",
       "      <td>-2.3</td>\n",
       "      <td>Changed</td>\n",
       "    </tr>\n",
       "    <tr>\n",
       "      <th>a3</th>\n",
       "      <td>-2.4</td>\n",
       "      <td>-2.1</td>\n",
       "      <td>4.0</td>\n",
       "      <td>b</td>\n",
       "    </tr>\n",
       "    <tr>\n",
       "      <th>a4</th>\n",
       "      <td>0.3</td>\n",
       "      <td>-1.5</td>\n",
       "      <td>1.9</td>\n",
       "      <td>Changed</td>\n",
       "    </tr>\n",
       "  </tbody>\n",
       "</table>\n",
       "</div>"
      ],
      "text/plain": [
       "     x1   x2   x3        y\n",
       "a1  4.2  2.1  2.5        a\n",
       "a2  0.7 -3.7 -2.3  Changed\n",
       "a3 -2.4 -2.1  4.0        b\n",
       "a4  0.3 -1.5  1.9  Changed"
      ]
     },
     "execution_count": 48,
     "metadata": {},
     "output_type": "execute_result"
    }
   ],
   "source": [
    "datos.loc[['a2','a4'],'y'] = 'Changed'\n",
    "datos"
   ]
  },
  {
   "cell_type": "code",
   "execution_count": 49,
   "metadata": {},
   "outputs": [
    {
     "data": {
      "application/vnd.microsoft.datawrangler.viewer.v0+json": {
       "columns": [
        {
         "name": "index",
         "rawType": "object",
         "type": "string"
        },
        {
         "name": "x1",
         "rawType": "float64",
         "type": "float"
        },
        {
         "name": "x2",
         "rawType": "float64",
         "type": "float"
        },
        {
         "name": "x3",
         "rawType": "float64",
         "type": "float"
        },
        {
         "name": "y",
         "rawType": "object",
         "type": "string"
        }
       ],
       "conversionMethod": "pd.DataFrame",
       "ref": "69dbc212-d1a6-409d-bda1-3411525ed301",
       "rows": [
        [
         "a1",
         "4.2",
         "2.1",
         "2.5",
         "a"
        ],
        [
         "a2",
         "0.7",
         "-3.7",
         "-2.3",
         "YES"
        ],
        [
         "a3",
         "-2.4",
         "-2.1",
         "4.0",
         "b"
        ],
        [
         "a4",
         "0.3",
         "-1.5",
         "1.9",
         "NO"
        ]
       ],
       "shape": {
        "columns": 4,
        "rows": 4
       }
      },
      "text/html": [
       "<div>\n",
       "<style scoped>\n",
       "    .dataframe tbody tr th:only-of-type {\n",
       "        vertical-align: middle;\n",
       "    }\n",
       "\n",
       "    .dataframe tbody tr th {\n",
       "        vertical-align: top;\n",
       "    }\n",
       "\n",
       "    .dataframe thead th {\n",
       "        text-align: right;\n",
       "    }\n",
       "</style>\n",
       "<table border=\"1\" class=\"dataframe\">\n",
       "  <thead>\n",
       "    <tr style=\"text-align: right;\">\n",
       "      <th></th>\n",
       "      <th>x1</th>\n",
       "      <th>x2</th>\n",
       "      <th>x3</th>\n",
       "      <th>y</th>\n",
       "    </tr>\n",
       "  </thead>\n",
       "  <tbody>\n",
       "    <tr>\n",
       "      <th>a1</th>\n",
       "      <td>4.2</td>\n",
       "      <td>2.1</td>\n",
       "      <td>2.5</td>\n",
       "      <td>a</td>\n",
       "    </tr>\n",
       "    <tr>\n",
       "      <th>a2</th>\n",
       "      <td>0.7</td>\n",
       "      <td>-3.7</td>\n",
       "      <td>-2.3</td>\n",
       "      <td>YES</td>\n",
       "    </tr>\n",
       "    <tr>\n",
       "      <th>a3</th>\n",
       "      <td>-2.4</td>\n",
       "      <td>-2.1</td>\n",
       "      <td>4.0</td>\n",
       "      <td>b</td>\n",
       "    </tr>\n",
       "    <tr>\n",
       "      <th>a4</th>\n",
       "      <td>0.3</td>\n",
       "      <td>-1.5</td>\n",
       "      <td>1.9</td>\n",
       "      <td>NO</td>\n",
       "    </tr>\n",
       "  </tbody>\n",
       "</table>\n",
       "</div>"
      ],
      "text/plain": [
       "     x1   x2   x3    y\n",
       "a1  4.2  2.1  2.5    a\n",
       "a2  0.7 -3.7 -2.3  YES\n",
       "a3 -2.4 -2.1  4.0    b\n",
       "a4  0.3 -1.5  1.9   NO"
      ]
     },
     "execution_count": 49,
     "metadata": {},
     "output_type": "execute_result"
    }
   ],
   "source": [
    "datos.loc[['a2','a4'],'y'] = ['YES','NO']\n",
    "datos"
   ]
  },
  {
   "cell_type": "code",
   "execution_count": 51,
   "metadata": {},
   "outputs": [
    {
     "data": {
      "application/vnd.microsoft.datawrangler.viewer.v0+json": {
       "columns": [
        {
         "name": "index",
         "rawType": "object",
         "type": "string"
        },
        {
         "name": "x1",
         "rawType": "float64",
         "type": "float"
        },
        {
         "name": "x2",
         "rawType": "float64",
         "type": "float"
        },
        {
         "name": "x3",
         "rawType": "float64",
         "type": "float"
        },
        {
         "name": "y",
         "rawType": "object",
         "type": "string"
        }
       ],
       "conversionMethod": "pd.DataFrame",
       "ref": "d5ca78f3-c233-4a85-9d3d-f09cc5b322ff",
       "rows": [
        [
         "a1",
         "4.2",
         "2.1",
         "2.5",
         "a"
        ],
        [
         "a2",
         "0.7",
         "-3.7",
         "-2.3",
         "Yes"
        ],
        [
         "a3",
         "-2.4",
         "-2.1",
         "4.0",
         "b"
        ],
        [
         "a4",
         "0.3",
         "-1.5",
         "1.9",
         "No"
        ]
       ],
       "shape": {
        "columns": 4,
        "rows": 4
       }
      },
      "text/html": [
       "<div>\n",
       "<style scoped>\n",
       "    .dataframe tbody tr th:only-of-type {\n",
       "        vertical-align: middle;\n",
       "    }\n",
       "\n",
       "    .dataframe tbody tr th {\n",
       "        vertical-align: top;\n",
       "    }\n",
       "\n",
       "    .dataframe thead th {\n",
       "        text-align: right;\n",
       "    }\n",
       "</style>\n",
       "<table border=\"1\" class=\"dataframe\">\n",
       "  <thead>\n",
       "    <tr style=\"text-align: right;\">\n",
       "      <th></th>\n",
       "      <th>x1</th>\n",
       "      <th>x2</th>\n",
       "      <th>x3</th>\n",
       "      <th>y</th>\n",
       "    </tr>\n",
       "  </thead>\n",
       "  <tbody>\n",
       "    <tr>\n",
       "      <th>a1</th>\n",
       "      <td>4.2</td>\n",
       "      <td>2.1</td>\n",
       "      <td>2.5</td>\n",
       "      <td>a</td>\n",
       "    </tr>\n",
       "    <tr>\n",
       "      <th>a2</th>\n",
       "      <td>0.7</td>\n",
       "      <td>-3.7</td>\n",
       "      <td>-2.3</td>\n",
       "      <td>Yes</td>\n",
       "    </tr>\n",
       "    <tr>\n",
       "      <th>a3</th>\n",
       "      <td>-2.4</td>\n",
       "      <td>-2.1</td>\n",
       "      <td>4.0</td>\n",
       "      <td>b</td>\n",
       "    </tr>\n",
       "    <tr>\n",
       "      <th>a4</th>\n",
       "      <td>0.3</td>\n",
       "      <td>-1.5</td>\n",
       "      <td>1.9</td>\n",
       "      <td>No</td>\n",
       "    </tr>\n",
       "  </tbody>\n",
       "</table>\n",
       "</div>"
      ],
      "text/plain": [
       "     x1   x2   x3    y\n",
       "a1  4.2  2.1  2.5    a\n",
       "a2  0.7 -3.7 -2.3  Yes\n",
       "a3 -2.4 -2.1  4.0    b\n",
       "a4  0.3 -1.5  1.9   No"
      ]
     },
     "execution_count": 51,
     "metadata": {},
     "output_type": "execute_result"
    }
   ],
   "source": [
    "datos.loc[['a2','a4'],'y'] = pd.Series(['Yes','No'],index=['a2','a4'])\n",
    "datos"
   ]
  },
  {
   "cell_type": "code",
   "execution_count": 55,
   "metadata": {},
   "outputs": [
    {
     "data": {
      "text/plain": [
       "0    a\n",
       "3    c\n",
       "Name: y, dtype: object"
      ]
     },
     "execution_count": 55,
     "metadata": {},
     "output_type": "execute_result"
    }
   ],
   "source": [
    "datos.loc[~(datos['y'] == 'b'),'y']"
   ]
  },
  {
   "cell_type": "code",
   "execution_count": 58,
   "metadata": {},
   "outputs": [
    {
     "data": {
      "application/vnd.microsoft.datawrangler.viewer.v0+json": {
       "columns": [
        {
         "name": "index",
         "rawType": "int64",
         "type": "integer"
        },
        {
         "name": "x1",
         "rawType": "float64",
         "type": "float"
        },
        {
         "name": "x2",
         "rawType": "float64",
         "type": "float"
        },
        {
         "name": "x3",
         "rawType": "float64",
         "type": "float"
        },
        {
         "name": "y",
         "rawType": "object",
         "type": "string"
        }
       ],
       "conversionMethod": "pd.DataFrame",
       "ref": "0c925744-9f06-48af-80df-3bc963e1988e",
       "rows": [
        [
         "0",
         "4.2",
         "2.1",
         "2.5",
         "no b"
        ],
        [
         "1",
         "0.7",
         "-3.7",
         "-2.3",
         "b"
        ],
        [
         "2",
         "-2.4",
         "-2.1",
         "4.0",
         "b"
        ],
        [
         "3",
         "0.3",
         "-1.5",
         "1.9",
         "no b"
        ]
       ],
       "shape": {
        "columns": 4,
        "rows": 4
       }
      },
      "text/html": [
       "<div>\n",
       "<style scoped>\n",
       "    .dataframe tbody tr th:only-of-type {\n",
       "        vertical-align: middle;\n",
       "    }\n",
       "\n",
       "    .dataframe tbody tr th {\n",
       "        vertical-align: top;\n",
       "    }\n",
       "\n",
       "    .dataframe thead th {\n",
       "        text-align: right;\n",
       "    }\n",
       "</style>\n",
       "<table border=\"1\" class=\"dataframe\">\n",
       "  <thead>\n",
       "    <tr style=\"text-align: right;\">\n",
       "      <th></th>\n",
       "      <th>x1</th>\n",
       "      <th>x2</th>\n",
       "      <th>x3</th>\n",
       "      <th>y</th>\n",
       "    </tr>\n",
       "  </thead>\n",
       "  <tbody>\n",
       "    <tr>\n",
       "      <th>0</th>\n",
       "      <td>4.2</td>\n",
       "      <td>2.1</td>\n",
       "      <td>2.5</td>\n",
       "      <td>no b</td>\n",
       "    </tr>\n",
       "    <tr>\n",
       "      <th>1</th>\n",
       "      <td>0.7</td>\n",
       "      <td>-3.7</td>\n",
       "      <td>-2.3</td>\n",
       "      <td>b</td>\n",
       "    </tr>\n",
       "    <tr>\n",
       "      <th>2</th>\n",
       "      <td>-2.4</td>\n",
       "      <td>-2.1</td>\n",
       "      <td>4.0</td>\n",
       "      <td>b</td>\n",
       "    </tr>\n",
       "    <tr>\n",
       "      <th>3</th>\n",
       "      <td>0.3</td>\n",
       "      <td>-1.5</td>\n",
       "      <td>1.9</td>\n",
       "      <td>no b</td>\n",
       "    </tr>\n",
       "  </tbody>\n",
       "</table>\n",
       "</div>"
      ],
      "text/plain": [
       "    x1   x2   x3     y\n",
       "0  4.2  2.1  2.5  no b\n",
       "1  0.7 -3.7 -2.3     b\n",
       "2 -2.4 -2.1  4.0     b\n",
       "3  0.3 -1.5  1.9  no b"
      ]
     },
     "execution_count": 58,
     "metadata": {},
     "output_type": "execute_result"
    }
   ],
   "source": [
    "datos.loc[~(datos['y'] == 'b'),'y'] = 'no b'\n",
    "datos"
   ]
  }
 ],
 "metadata": {
  "kernelspec": {
   "display_name": "base",
   "language": "python",
   "name": "python3"
  },
  "language_info": {
   "codemirror_mode": {
    "name": "ipython",
    "version": 3
   },
   "file_extension": ".py",
   "mimetype": "text/x-python",
   "name": "python",
   "nbconvert_exporter": "python",
   "pygments_lexer": "ipython3",
   "version": "3.12.7"
  }
 },
 "nbformat": 4,
 "nbformat_minor": 2
}
