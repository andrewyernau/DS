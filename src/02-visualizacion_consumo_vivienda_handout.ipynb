{
 "cells": [
  {
   "cell_type": "markdown",
   "metadata": {},
   "source": [
    "# Trabajo. Visualización de datos: consumo eléctrico de una vivienda.\n",
    "\n",
    "En este trabajo, tenéis que completar algunos de los bloques de código para contestar a las preguntas que van apareciendo en el documento. \n",
    "\n",
    "\n",
    "Usaremos en este trabajo  los datos que ya exploramos en el trabajo sobre manipulación de datos y cálculo de resúmenes por grupos. El fichero es `household_hourly_power_consumption.txt`, que se puede descargar del aula virtual.\n",
    "\n",
    "Empezamos por importar los módulos `pandas`, `pyplot` de `matplotlib`, y `path` de `os`, para tratar las  localizaciones de ficheros."
   ]
  },
  {
   "cell_type": "code",
   "execution_count": 1,
   "metadata": {},
   "outputs": [],
   "source": [
    "# Completar aquí: importar módulos\n",
    "import pandas as pd\n",
    "import numpy as np\n",
    "from matplotlib import pyplot as plt\n",
    "from os import path\n",
    "# --------------------\n"
   ]
  },
  {
   "cell_type": "markdown",
   "metadata": {},
   "source": [
    "## Cargamos los datos\n",
    "Definimos la variable `DATA_DIRECTORY` que indica dónde están situados nuestros datos respecto a la localización de este `notebook`."
   ]
  },
  {
   "cell_type": "code",
   "execution_count": 2,
   "metadata": {},
   "outputs": [
    {
     "data": {
      "text/plain": [
       "'d:\\\\CodeProjects\\\\IDS\\\\data'"
      ]
     },
     "execution_count": 2,
     "metadata": {},
     "output_type": "execute_result"
    }
   ],
   "source": [
    "# Completar aquí: definir DATA_DIRECTORY\n",
    "DATA_DIRECTORY = path.abspath(path.join('..', 'data'))\n",
    "DATA_DIRECTORY\n",
    "# --------------------\n"
   ]
  },
  {
   "cell_type": "markdown",
   "metadata": {},
   "source": [
    "Podemos importar los datos en un `DataFrame` que llamaremos `vivienda`. Lo haremos especificando que la columna `date_hour` debe ser parseada como `datetime` y que la usaremos como `index`. Indicaremos la ubicación del fichero de datos usando `path.join` y la variable `DATA_DIRECTORY`."
   ]
  },
  {
   "cell_type": "code",
   "execution_count": 3,
   "metadata": {},
   "outputs": [
    {
     "data": {
      "application/vnd.microsoft.datawrangler.viewer.v0+json": {
       "columns": [
        {
         "name": "date_hour",
         "rawType": "datetime64[ns]",
         "type": "datetime"
        },
        {
         "name": "global_active_power",
         "rawType": "float64",
         "type": "float"
        },
        {
         "name": "global_reactive_power",
         "rawType": "float64",
         "type": "float"
        },
        {
         "name": "voltage",
         "rawType": "float64",
         "type": "float"
        },
        {
         "name": "vlobal_intensity",
         "rawType": "float64",
         "type": "float"
        },
        {
         "name": "sub_metering_1",
         "rawType": "float64",
         "type": "float"
        },
        {
         "name": "sub_metering_2",
         "rawType": "float64",
         "type": "float"
        },
        {
         "name": "sub_metering_3",
         "rawType": "float64",
         "type": "float"
        }
       ],
       "conversionMethod": "pd.DataFrame",
       "ref": "7e6f4129-313c-4766-9dea-aef68d7aa2b3",
       "rows": [
        [
         "2006-12-16 17:00:00",
         "4.22288888888889",
         "0.229",
         "234.643888888889",
         "18.1",
         "0.0",
         "0.527777777777778",
         "16.8611111111111"
        ],
        [
         "2006-12-16 18:00:00",
         "3.6322",
         "0.0800333333333333",
         "234.580166666667",
         "15.6",
         "0.0",
         "6.71666666666667",
         "16.8666666666667"
        ],
        [
         "2006-12-16 19:00:00",
         "3.40023333333333",
         "0.0852333333333333",
         "233.2325",
         "14.5033333333333",
         "0.0",
         "1.43333333333333",
         "16.6833333333333"
        ],
        [
         "2006-12-16 20:00:00",
         "3.26856666666667",
         "0.0751",
         "234.0715",
         "13.9166666666667",
         "0.0",
         "0.0",
         "16.7833333333333"
        ],
        [
         "2006-12-16 21:00:00",
         "3.05646666666667",
         "0.0766666666666667",
         "237.158666666667",
         "13.0466666666667",
         "0.0",
         "0.416666666666667",
         "17.2166666666667"
        ],
        [
         "2006-12-16 22:00:00",
         "2.20013333333333",
         "0.0561666666666667",
         "238.76",
         "9.52333333333333",
         "0.0",
         "0.133333333333333",
         "4.43333333333333"
        ],
        [
         "2006-12-16 23:00:00",
         "2.0616",
         "0.0714333333333333",
         "240.619666666667",
         "8.89666666666667",
         "0.0",
         "0.0833333333333333",
         "0.0"
        ],
        [
         "2006-12-17 00:00:00",
         "1.88246666666667",
         "0.102433333333333",
         "240.961833333333",
         "8.12666666666667",
         "0.0",
         "0.466666666666667",
         "0.0"
        ],
        [
         "2006-12-17 01:00:00",
         "3.3494",
         "0.136933333333333",
         "240.448333333333",
         "14.2466666666667",
         "0.0",
         "25.2333333333333",
         "0.0"
        ],
        [
         "2006-12-17 02:00:00",
         "1.58726666666667",
         "0.0782333333333333",
         "245.818666666667",
         "6.87",
         "0.0",
         "0.566666666666667",
         "0.0"
        ],
        [
         "2006-12-17 03:00:00",
         "1.6622",
         "0.0795333333333333",
         "244.5135",
         "7.20666666666667",
         "0.0",
         "0.766666666666667",
         "0.0"
        ],
        [
         "2006-12-17 04:00:00",
         "2.21576666666667",
         "0.0934666666666667",
         "243.8555",
         "9.33333333333333",
         "0.0",
         "0.566666666666667",
         "8.88333333333333"
        ],
        [
         "2006-12-17 05:00:00",
         "1.99673333333333",
         "0.0602333333333333",
         "243.710166666667",
         "8.56666666666667",
         "0.0",
         "0.166666666666667",
         "4.65"
        ],
        [
         "2006-12-17 06:00:00",
         "1.3033",
         "0.0948333333333333",
         "244.1415",
         "5.53",
         "0.0",
         "0.716666666666667",
         "0.0"
        ],
        [
         "2006-12-17 07:00:00",
         "1.62003333333333",
         "0.0598",
         "241.845666666667",
         "6.80333333333333",
         "0.0",
         "0.166666666666667",
         "0.0"
        ],
        [
         "2006-12-17 08:00:00",
         "1.89056666666667",
         "0.118566666666667",
         "241.3115",
         "8.05",
         "0.0",
         "0.75",
         "0.0"
        ],
        [
         "2006-12-17 09:00:00",
         "2.54906666666667",
         "0.0792333333333333",
         "238.847833333333",
         "10.9733333333333",
         "0.0",
         "7.31666666666667",
         "0.0"
        ],
        [
         "2006-12-17 10:00:00",
         "3.6289",
         "0.1946",
         "235.441",
         "15.5333333333333",
         "8.88333333333333",
         "22.35",
         "16.15"
        ],
        [
         "2006-12-17 11:00:00",
         "2.471",
         "0.2007",
         "236.924666666667",
         "10.4933333333333",
         "9.45",
         "5.01666666666667",
         "17.1833333333333"
        ],
        [
         "2006-12-17 12:00:00",
         "1.91586666666667",
         "0.294033333333333",
         "237.784666666667",
         "8.13666666666667",
         "0.0",
         "0.533333333333333",
         "17.3166666666667"
        ],
        [
         "2006-12-17 13:00:00",
         "1.66076666666667",
         "0.171533333333333",
         "239.920666666667",
         "6.92333333333333",
         "0.0",
         "0.05",
         "17.6166666666667"
        ],
        [
         "2006-12-17 14:00:00",
         "2.09263333333333",
         "0.2574",
         "244.045666666667",
         "8.6",
         "0.0",
         "0.333333333333333",
         "18.2333333333333"
        ],
        [
         "2006-12-17 15:00:00",
         "2.9854",
         "0.0886",
         "240.480833333333",
         "12.4266666666667",
         "6.96666666666667",
         "0.2",
         "17.7"
        ],
        [
         "2006-12-17 16:00:00",
         "3.32603333333333",
         "0.0931333333333333",
         "236.781833333333",
         "14.0066666666667",
         "8.58333333333333",
         "0.0666666666666667",
         "17.1666666666667"
        ],
        [
         "2006-12-17 17:00:00",
         "3.40676666666667",
         "0.166633333333333",
         "234.229833333333",
         "14.51",
         "0.0",
         "0.466666666666667",
         "16.8166666666667"
        ],
        [
         "2006-12-17 18:00:00",
         "3.6971",
         "0.135066666666667",
         "234.372333333333",
         "15.75",
         "0.0",
         "0.0",
         "16.8333333333333"
        ],
        [
         "2006-12-17 19:00:00",
         "2.9084",
         "0.265166666666667",
         "233.195666666667",
         "12.5166666666667",
         "0.0",
         "0.516666666666667",
         "16.6833333333333"
        ],
        [
         "2006-12-17 20:00:00",
         "3.3615",
         "0.2715",
         "236.4265",
         "14.2766666666667",
         "0.0",
         "1.11666666666667",
         "17.1166666666667"
        ],
        [
         "2006-12-17 21:00:00",
         "3.04076666666667",
         "0.267966666666667",
         "239.104166666667",
         "12.7166666666667",
         "0.0",
         "1.2",
         "17.5"
        ],
        [
         "2006-12-17 22:00:00",
         "1.518",
         "0.235366666666667",
         "242.192333333333",
         "6.38333333333333",
         "0.0",
         "0.416666666666667",
         "2.5"
        ],
        [
         "2006-12-17 23:00:00",
         "0.437733333333333",
         "0.2218",
         "245.734",
         "1.99666666666667",
         "0.0",
         "0.8",
         "0.0"
        ],
        [
         "2006-12-18 00:00:00",
         "0.276366666666667",
         "0.0990666666666667",
         "244.6075",
         "1.22333333333333",
         "0.0",
         "0.0333333333333333",
         "0.0"
        ],
        [
         "2006-12-18 01:00:00",
         "0.3133",
         "0.1519",
         "243.519333333333",
         "1.41666666666667",
         "0.0",
         "0.583333333333333",
         "0.0"
        ],
        [
         "2006-12-18 02:00:00",
         "0.284466666666667",
         "0.109066666666667",
         "246.891",
         "1.25666666666667",
         "0.0",
         "0.0",
         "0.0"
        ],
        [
         "2006-12-18 03:00:00",
         "0.309933333333333",
         "0.147766666666667",
         "245.731833333333",
         "1.4",
         "0.0",
         "0.566666666666667",
         "0.0"
        ],
        [
         "2006-12-18 04:00:00",
         "1.02633333333333",
         "0.08",
         "245.507",
         "4.17666666666667",
         "0.0",
         "0.0666666666666667",
         "12.55"
        ],
        [
         "2006-12-18 05:00:00",
         "0.2935",
         "0.121933333333333",
         "245.253166666667",
         "1.29333333333333",
         "0.0",
         "0.466666666666667",
         "0.0"
        ],
        [
         "2006-12-18 06:00:00",
         "0.61",
         "0.1129",
         "245.704333333333",
         "2.6",
         "0.0",
         "0.0833333333333333",
         "0.0"
        ],
        [
         "2006-12-18 07:00:00",
         "2.45043333333333",
         "0.153",
         "240.962333333333",
         "10.22",
         "0.0833333333333333",
         "0.45",
         "11.3"
        ],
        [
         "2006-12-18 08:00:00",
         "2.08213333333333",
         "0.0737333333333333",
         "237.880333333333",
         "8.72666666666667",
         "12.4666666666667",
         "0.0333333333333333",
         "17.35"
        ],
        [
         "2006-12-18 09:00:00",
         "1.62933333333333",
         "0.0851666666666667",
         "237.404666666667",
         "6.81666666666667",
         "5.16666666666667",
         "0.483333333333333",
         "17.2666666666667"
        ],
        [
         "2006-12-18 10:00:00",
         "1.30963333333333",
         "0.0528333333333333",
         "239.0805",
         "5.42666666666667",
         "0.0",
         "0.0",
         "17.5"
        ],
        [
         "2006-12-18 11:00:00",
         "1.56193333333333",
         "0.127333333333333",
         "239.771",
         "6.47",
         "0.0",
         "0.516666666666667",
         "17.6"
        ],
        [
         "2006-12-18 12:00:00",
         "1.75606666666667",
         "0.0873",
         "242.58",
         "7.24666666666667",
         "0.0",
         "0.0",
         "18.0166666666667"
        ],
        [
         "2006-12-18 13:00:00",
         "1.68206666666667",
         "0.1265",
         "241.954166666667",
         "6.94",
         "0.0",
         "0.533333333333333",
         "17.3666666666667"
        ],
        [
         "2006-12-18 14:00:00",
         "1.73303333333333",
         "0.0493",
         "242.1965",
         "7.09666666666667",
         "0.0",
         "0.0",
         "17.3833333333333"
        ],
        [
         "2006-12-18 15:00:00",
         "1.7843",
         "0.104066666666667",
         "242.4235",
         "7.31",
         "0.0",
         "0.516666666666667",
         "17.9833333333333"
        ],
        [
         "2006-12-18 16:00:00",
         "1.9493",
         "0.204433333333333",
         "242.380666666667",
         "8.09666666666667",
         "0.0",
         "0.0",
         "17.9833333333333"
        ],
        [
         "2006-12-18 17:00:00",
         "2.1549",
         "0.0978",
         "238.729166666667",
         "8.99333333333333",
         "0.0",
         "0.333333333333333",
         "17.45"
        ],
        [
         "2006-12-18 18:00:00",
         "2.40253333333333",
         "0.0791",
         "236.6685",
         "10.0833333333333",
         "0.0",
         "0.25",
         "16.9166666666667"
        ]
       ],
       "shape": {
        "columns": 7,
        "rows": 34589
       }
      },
      "text/html": [
       "<div>\n",
       "<style scoped>\n",
       "    .dataframe tbody tr th:only-of-type {\n",
       "        vertical-align: middle;\n",
       "    }\n",
       "\n",
       "    .dataframe tbody tr th {\n",
       "        vertical-align: top;\n",
       "    }\n",
       "\n",
       "    .dataframe thead th {\n",
       "        text-align: right;\n",
       "    }\n",
       "</style>\n",
       "<table border=\"1\" class=\"dataframe\">\n",
       "  <thead>\n",
       "    <tr style=\"text-align: right;\">\n",
       "      <th></th>\n",
       "      <th>global_active_power</th>\n",
       "      <th>global_reactive_power</th>\n",
       "      <th>voltage</th>\n",
       "      <th>vlobal_intensity</th>\n",
       "      <th>sub_metering_1</th>\n",
       "      <th>sub_metering_2</th>\n",
       "      <th>sub_metering_3</th>\n",
       "    </tr>\n",
       "    <tr>\n",
       "      <th>date_hour</th>\n",
       "      <th></th>\n",
       "      <th></th>\n",
       "      <th></th>\n",
       "      <th></th>\n",
       "      <th></th>\n",
       "      <th></th>\n",
       "      <th></th>\n",
       "    </tr>\n",
       "  </thead>\n",
       "  <tbody>\n",
       "    <tr>\n",
       "      <th>2006-12-16 17:00:00</th>\n",
       "      <td>4.222889</td>\n",
       "      <td>0.229000</td>\n",
       "      <td>234.643889</td>\n",
       "      <td>18.100000</td>\n",
       "      <td>0.0</td>\n",
       "      <td>0.527778</td>\n",
       "      <td>16.861111</td>\n",
       "    </tr>\n",
       "    <tr>\n",
       "      <th>2006-12-16 18:00:00</th>\n",
       "      <td>3.632200</td>\n",
       "      <td>0.080033</td>\n",
       "      <td>234.580167</td>\n",
       "      <td>15.600000</td>\n",
       "      <td>0.0</td>\n",
       "      <td>6.716667</td>\n",
       "      <td>16.866667</td>\n",
       "    </tr>\n",
       "    <tr>\n",
       "      <th>2006-12-16 19:00:00</th>\n",
       "      <td>3.400233</td>\n",
       "      <td>0.085233</td>\n",
       "      <td>233.232500</td>\n",
       "      <td>14.503333</td>\n",
       "      <td>0.0</td>\n",
       "      <td>1.433333</td>\n",
       "      <td>16.683333</td>\n",
       "    </tr>\n",
       "    <tr>\n",
       "      <th>2006-12-16 20:00:00</th>\n",
       "      <td>3.268567</td>\n",
       "      <td>0.075100</td>\n",
       "      <td>234.071500</td>\n",
       "      <td>13.916667</td>\n",
       "      <td>0.0</td>\n",
       "      <td>0.000000</td>\n",
       "      <td>16.783333</td>\n",
       "    </tr>\n",
       "    <tr>\n",
       "      <th>2006-12-16 21:00:00</th>\n",
       "      <td>3.056467</td>\n",
       "      <td>0.076667</td>\n",
       "      <td>237.158667</td>\n",
       "      <td>13.046667</td>\n",
       "      <td>0.0</td>\n",
       "      <td>0.416667</td>\n",
       "      <td>17.216667</td>\n",
       "    </tr>\n",
       "    <tr>\n",
       "      <th>...</th>\n",
       "      <td>...</td>\n",
       "      <td>...</td>\n",
       "      <td>...</td>\n",
       "      <td>...</td>\n",
       "      <td>...</td>\n",
       "      <td>...</td>\n",
       "      <td>...</td>\n",
       "    </tr>\n",
       "    <tr>\n",
       "      <th>2010-11-26 17:00:00</th>\n",
       "      <td>1.725900</td>\n",
       "      <td>0.061400</td>\n",
       "      <td>237.069667</td>\n",
       "      <td>7.216667</td>\n",
       "      <td>0.0</td>\n",
       "      <td>0.000000</td>\n",
       "      <td>12.866667</td>\n",
       "    </tr>\n",
       "    <tr>\n",
       "      <th>2010-11-26 18:00:00</th>\n",
       "      <td>1.573467</td>\n",
       "      <td>0.053700</td>\n",
       "      <td>237.531833</td>\n",
       "      <td>6.620000</td>\n",
       "      <td>0.0</td>\n",
       "      <td>0.000000</td>\n",
       "      <td>0.000000</td>\n",
       "    </tr>\n",
       "    <tr>\n",
       "      <th>2010-11-26 19:00:00</th>\n",
       "      <td>1.659333</td>\n",
       "      <td>0.060033</td>\n",
       "      <td>236.741000</td>\n",
       "      <td>7.056667</td>\n",
       "      <td>0.0</td>\n",
       "      <td>0.066667</td>\n",
       "      <td>0.000000</td>\n",
       "    </tr>\n",
       "    <tr>\n",
       "      <th>2010-11-26 20:00:00</th>\n",
       "      <td>1.163700</td>\n",
       "      <td>0.061167</td>\n",
       "      <td>239.396000</td>\n",
       "      <td>4.913333</td>\n",
       "      <td>0.0</td>\n",
       "      <td>1.066667</td>\n",
       "      <td>0.000000</td>\n",
       "    </tr>\n",
       "    <tr>\n",
       "      <th>2010-11-26 21:00:00</th>\n",
       "      <td>0.934667</td>\n",
       "      <td>0.000000</td>\n",
       "      <td>239.690000</td>\n",
       "      <td>3.800000</td>\n",
       "      <td>0.0</td>\n",
       "      <td>0.000000</td>\n",
       "      <td>0.000000</td>\n",
       "    </tr>\n",
       "  </tbody>\n",
       "</table>\n",
       "<p>34589 rows × 7 columns</p>\n",
       "</div>"
      ],
      "text/plain": [
       "                     global_active_power  global_reactive_power     voltage  \\\n",
       "date_hour                                                                     \n",
       "2006-12-16 17:00:00             4.222889               0.229000  234.643889   \n",
       "2006-12-16 18:00:00             3.632200               0.080033  234.580167   \n",
       "2006-12-16 19:00:00             3.400233               0.085233  233.232500   \n",
       "2006-12-16 20:00:00             3.268567               0.075100  234.071500   \n",
       "2006-12-16 21:00:00             3.056467               0.076667  237.158667   \n",
       "...                                  ...                    ...         ...   \n",
       "2010-11-26 17:00:00             1.725900               0.061400  237.069667   \n",
       "2010-11-26 18:00:00             1.573467               0.053700  237.531833   \n",
       "2010-11-26 19:00:00             1.659333               0.060033  236.741000   \n",
       "2010-11-26 20:00:00             1.163700               0.061167  239.396000   \n",
       "2010-11-26 21:00:00             0.934667               0.000000  239.690000   \n",
       "\n",
       "                     vlobal_intensity  sub_metering_1  sub_metering_2  \\\n",
       "date_hour                                                               \n",
       "2006-12-16 17:00:00         18.100000             0.0        0.527778   \n",
       "2006-12-16 18:00:00         15.600000             0.0        6.716667   \n",
       "2006-12-16 19:00:00         14.503333             0.0        1.433333   \n",
       "2006-12-16 20:00:00         13.916667             0.0        0.000000   \n",
       "2006-12-16 21:00:00         13.046667             0.0        0.416667   \n",
       "...                               ...             ...             ...   \n",
       "2010-11-26 17:00:00          7.216667             0.0        0.000000   \n",
       "2010-11-26 18:00:00          6.620000             0.0        0.000000   \n",
       "2010-11-26 19:00:00          7.056667             0.0        0.066667   \n",
       "2010-11-26 20:00:00          4.913333             0.0        1.066667   \n",
       "2010-11-26 21:00:00          3.800000             0.0        0.000000   \n",
       "\n",
       "                     sub_metering_3  \n",
       "date_hour                            \n",
       "2006-12-16 17:00:00       16.861111  \n",
       "2006-12-16 18:00:00       16.866667  \n",
       "2006-12-16 19:00:00       16.683333  \n",
       "2006-12-16 20:00:00       16.783333  \n",
       "2006-12-16 21:00:00       17.216667  \n",
       "...                             ...  \n",
       "2010-11-26 17:00:00       12.866667  \n",
       "2010-11-26 18:00:00        0.000000  \n",
       "2010-11-26 19:00:00        0.000000  \n",
       "2010-11-26 20:00:00        0.000000  \n",
       "2010-11-26 21:00:00        0.000000  \n",
       "\n",
       "[34589 rows x 7 columns]"
      ]
     },
     "execution_count": 3,
     "metadata": {},
     "output_type": "execute_result"
    }
   ],
   "source": [
    "# Completar aquí\n",
    "file_path = path.join(DATA_DIRECTORY, \"household_hourly_power_consumption.txt\")\n",
    "vivienda = pd.read_csv(file_path, sep=\";\", decimal=\".\", parse_dates=[\"date_hour\"], skiprows=13, index_col=\"date_hour\")\n",
    "vivienda.dtypes\n",
    "\n",
    "# --------------------\n",
    "vivienda"
   ]
  },
  {
   "cell_type": "markdown",
   "metadata": {},
   "source": [
    "## Histograma de la potencia global activa\n",
    "Empezaremos por representar un histograma de la potencia global activa, con 15 clases (\"bins\"). Este número de 15 se ha calculado usando la regla de Sturges."
   ]
  },
  {
   "cell_type": "code",
   "execution_count": 4,
   "metadata": {},
   "outputs": [
    {
     "data": {
      "image/png": "[encoded data removed]",
      "text/plain": [
       "<Figure size 640x480 with 1 Axes>"
      ]
     },
     "metadata": {},
     "output_type": "display_data"
    }
   ],
   "source": [
    "# Completar aquí\n",
    "fig,ax = plt.subplots()\n",
    "ax.hist(vivienda[\"global_active_power\"].dropna(),bins=15,edgecolor=\"white\");\n",
    "# --------------------\n"
   ]
  },
  {
   "cell_type": "markdown",
   "metadata": {},
   "source": [
    "## Boxplots del voltaje según los años.\n",
    "Vamos a obtener ahora unos diagramas de cajabigotes del voltaje según cada año. Para ello, empezamos por obtener cuántos datos tenemos por año en el conjunto. "
   ]
  },
  {
   "cell_type": "code",
   "execution_count": 5,
   "metadata": {},
   "outputs": [
    {
     "data": {
      "text/plain": [
       "date_hour\n",
       "2006     367\n",
       "2007    8760\n",
       "2008    8784\n",
       "2009    8760\n",
       "2010    7918\n",
       "Name: count, dtype: int64"
      ]
     },
     "execution_count": 5,
     "metadata": {},
     "output_type": "execute_result"
    }
   ],
   "source": [
    "# Completar aquí:\n",
    "vivienda_year = vivienda.index.year.value_counts(sort=False)\n",
    "vivienda_year\n",
    "#ax.hist(vivienda[\"global_active_power\"].dropna(),bins=15,edgecolor=\"white\");\n",
    "# --------------------\n"
   ]
  },
  {
   "cell_type": "markdown",
   "metadata": {},
   "source": [
    "Nuestra intención es hacer una gráfica que contenga los diagramas de caja bigotes uno al lado del otro, donde el eje Ox es el eje de los años, de 2006 a 2010.\n",
    "\n",
    "Para ello, tendremos que usar una lista que contenga las series de `voltage` año por año y pasarla a `ax.boxplot`."
   ]
  },
  {
   "cell_type": "code",
   "execution_count": 6,
   "metadata": {},
   "outputs": [
    {
     "name": "stderr",
     "output_type": "stream",
     "text": [
      "C:\\Users\\andrew\\AppData\\Local\\Temp\\ipykernel_43592\\1762755557.py:4: MatplotlibDeprecationWarning: The 'labels' parameter of boxplot() has been renamed 'tick_labels' since Matplotlib 3.9; support for the old name will be dropped in 3.11.\n",
      "  ax.boxplot(lista_voltaje, labels=vivienda_year.index);\n"
     ]
    },
    {
     "data": {
      "image/png": "[encoded data removed]",
      "text/plain": [
       "<Figure size 640x480 with 1 Axes>"
      ]
     },
     "metadata": {},
     "output_type": "display_data"
    }
   ],
   "source": [
    "# Completar aquí\n",
    "lista_voltaje = [vivienda[vivienda.index.year == year][\"voltage\"].dropna() for year in vivienda_year.index];\n",
    "fig, ax = plt.subplots();\n",
    "ax.boxplot(lista_voltaje, labels=vivienda_year.index);\n",
    "# --------------------\n"
   ]
  },
  {
   "cell_type": "code",
   "execution_count": 7,
   "metadata": {},
   "outputs": [
    {
     "data": {
      "text/plain": [
       "[date_hour\n",
       " 2006-12-16 17:00:00    234.643889\n",
       " 2006-12-16 18:00:00    234.580167\n",
       " 2006-12-16 19:00:00    233.232500\n",
       " 2006-12-16 20:00:00    234.071500\n",
       " 2006-12-16 21:00:00    237.158667\n",
       "                           ...    \n",
       " 2006-12-31 19:00:00    235.360667\n",
       " 2006-12-31 20:00:00    235.495667\n",
       " 2006-12-31 21:00:00    237.103833\n",
       " 2006-12-31 22:00:00    239.298167\n",
       " 2006-12-31 23:00:00    239.311667\n",
       " Name: voltage, Length: 367, dtype: float64,\n",
       " date_hour\n",
       " 2007-01-01 00:00:00    241.361333\n",
       " 2007-01-01 01:00:00    241.096500\n",
       " 2007-01-01 02:00:00    243.200167\n",
       " 2007-01-01 03:00:00    243.265667\n",
       " 2007-01-01 04:00:00    242.456167\n",
       "                           ...    \n",
       " 2007-12-31 19:00:00    235.066833\n",
       " 2007-12-31 20:00:00    238.032833\n",
       " 2007-12-31 21:00:00    237.913500\n",
       " 2007-12-31 22:00:00    240.893667\n",
       " 2007-12-31 23:00:00    240.835667\n",
       " Name: voltage, Length: 8698, dtype: float64,\n",
       " date_hour\n",
       " 2008-01-01 00:00:00    241.553000\n",
       " 2008-01-01 01:00:00    240.830500\n",
       " 2008-01-01 02:00:00    242.745500\n",
       " 2008-01-01 03:00:00    241.913167\n",
       " 2008-01-01 04:00:00    241.065167\n",
       "                           ...    \n",
       " 2008-12-31 19:00:00    238.365000\n",
       " 2008-12-31 20:00:00    238.129667\n",
       " 2008-12-31 21:00:00    242.898833\n",
       " 2008-12-31 22:00:00    245.935167\n",
       " 2008-12-31 23:00:00    247.665667\n",
       " Name: voltage, Length: 8784, dtype: float64,\n",
       " date_hour\n",
       " 2009-01-01 00:00:00    246.872667\n",
       " 2009-01-01 01:00:00    244.144333\n",
       " 2009-01-01 02:00:00    246.402167\n",
       " 2009-01-01 03:00:00    245.246500\n",
       " 2009-01-01 04:00:00    245.003333\n",
       "                           ...    \n",
       " 2009-12-31 19:00:00    237.248333\n",
       " 2009-12-31 20:00:00    237.794500\n",
       " 2009-12-31 21:00:00    236.641500\n",
       " 2009-12-31 22:00:00    237.913833\n",
       " 2009-12-31 23:00:00    240.071333\n",
       " Name: voltage, Length: 8692, dtype: float64,\n",
       " date_hour\n",
       " 2010-01-01 00:00:00    241.300000\n",
       " 2010-01-01 01:00:00    241.620667\n",
       " 2010-01-01 02:00:00    244.012333\n",
       " 2010-01-01 03:00:00    244.063833\n",
       " 2010-01-01 04:00:00    241.649333\n",
       "                           ...    \n",
       " 2010-11-26 17:00:00    237.069667\n",
       " 2010-11-26 18:00:00    237.531833\n",
       " 2010-11-26 19:00:00    236.741000\n",
       " 2010-11-26 20:00:00    239.396000\n",
       " 2010-11-26 21:00:00    239.690000\n",
       " Name: voltage, Length: 7627, dtype: float64]"
      ]
     },
     "execution_count": 7,
     "metadata": {},
     "output_type": "execute_result"
    }
   ],
   "source": [
    "lista_voltaje"
   ]
  },
  {
   "cell_type": "markdown",
   "metadata": {},
   "source": [
    "Es posible (probable?) que, en vuestra gráfica, sólo aparezcan los años 2006 y 2008, a qué se podría deber? Cómo podríamos arreglarlo?"
   ]
  },
  {
   "cell_type": "markdown",
   "metadata": {},
   "source": [
    "## Gráficas para la potencia global activa\n",
    "\n",
    "Empezamos por representar la evolución temporal de la potencia global activa."
   ]
  },
  {
   "cell_type": "code",
   "execution_count": 8,
   "metadata": {},
   "outputs": [
    {
     "data": {
      "image/png": "[encoded data removed]",
      "text/plain": [
       "<Figure size 640x480 with 1 Axes>"
      ]
     },
     "metadata": {},
     "output_type": "display_data"
    }
   ],
   "source": [
    "# Completar aquí\n",
    "fig, ax = plt.subplots();\n",
    "ax.plot(vivienda.index, vivienda[\"global_active_power\"]);\n",
    "plt.xticks(rotation=45)\n",
    "plt.show();\n",
    "\n",
    "# --------------------\n"
   ]
  },
  {
   "cell_type": "markdown",
   "metadata": {},
   "source": [
    "Se observa algo destacable?\n",
    "\n",
    "### Pequeñas modificaciones de la gráfica:\n",
    "\n",
    "Realizad las modificaciones siguientes sobre la gráfica temporal:\n",
    "\n",
    "1. Cambiad las etiquetas de los ejes: en el eje Ox, ponemos \"Fecha\", mientras que en el eje poned \"Potencia global activa (kW).\n",
    "2. Añadid el título \"Evolución temporal de la potencia global activa consumida, 2006-2012\"\n",
    "3. Usando la función `savefig` de pyplot, guardad la gráfica en un fichero llamado potencia-global-activa-2006-2012.png en carpeta \"figures\" de vuestro directorio de trabajo para este trabajo. \n"
   ]
  },
  {
   "cell_type": "code",
   "execution_count": 9,
   "metadata": {},
   "outputs": [
    {
     "data": {
      "image/png": "[encoded data removed]",
      "text/plain": [
       "<Figure size 640x480 with 1 Axes>"
      ]
     },
     "metadata": {},
     "output_type": "display_data"
    },
    {
     "data": {
      "text/plain": [
       "<Figure size 640x480 with 0 Axes>"
      ]
     },
     "metadata": {},
     "output_type": "display_data"
    }
   ],
   "source": [
    "# Completar aquí\n",
    "fig, ax = plt.subplots();\n",
    "ax.plot(vivienda.index, vivienda[\"global_active_power\"]);\n",
    "ax.set_xlabel(\"Fecha\");\n",
    "ax.set_ylabel(\"Potencia activa global en kW\");\n",
    "ax.set_title(\"Evolución temporal de la potencia global activa consumida, 2006-2012\");\n",
    "plt.xticks(rotation=45)\n",
    "plt.show();\n",
    "plt.savefig(\"potencia-global-activa-2006-2012.png\")\n",
    "# --------------------\n"
   ]
  },
  {
   "cell_type": "markdown",
   "metadata": {},
   "source": [
    "### Seleccionamos los meses de julio a diciembre de 2008\n",
    "\n",
    "Queremos realizar la misma gráfica pero si nos limitamos a los meses de julio hasta diciembre de 2008.\n",
    "- Empezaremos por crear un `DataFrame` llamado `vivienda_2008` que sólo contenga las etiquetas de tiempo desde el 1 de julio de 2008 hasta el 31 de diciembre de 2008.\n",
    "- Podemos usar `loc` para seleccionar etiquetas. Como el `index` es de tipo `datetime`, usaremos el constructor `datetime` del módulo `datetime`. Esta función nos permite construir una fecha especificando el año, mes y día, hora, mínuto, segundo. Ver su [documentación](https://docs.python.org/3/library/datetime.html#datetime.datetime)\n"
   ]
  },
  {
   "cell_type": "code",
   "execution_count": 10,
   "metadata": {},
   "outputs": [
    {
     "name": "stdout",
     "output_type": "stream",
     "text": [
      "Menor registro de tiempo: 2008-07-01 00:00:00\n",
      "Mayor registro de tiempo: 2008-12-31 00:00:00\n",
      "Número de registros: 4393\n"
     ]
    }
   ],
   "source": [
    "# Completar aquí\n",
    "from datetime import datetime\n",
    "vivienda_2008 = vivienda.loc[datetime(2008,7,1):datetime(2008,12,31)]\n",
    "# --------------------\n",
    "print(f'Menor registro de tiempo: {vivienda_2008.index.min()}')\n",
    "print(f'Mayor registro de tiempo: {vivienda_2008.index.max()}')\n",
    "print(f'Número de registros: {vivienda_2008.shape[0]}')"
   ]
  },
  {
   "cell_type": "markdown",
   "metadata": {},
   "source": [
    "Hacemos la representación gráfica de la columna `global_active_power` de `vivienda_2008`."
   ]
  },
  {
   "cell_type": "code",
   "execution_count": 15,
   "metadata": {},
   "outputs": [
    {
     "data": {
      "image/png": "[encoded data removed]",
      "text/plain": [
       "<Figure size 640x480 with 1 Axes>"
      ]
     },
     "metadata": {},
     "output_type": "display_data"
    }
   ],
   "source": [
    "# Completar aquí\n",
    "fig, ax = plt.subplots();\n",
    "ax.plot(vivienda_2008.index, vivienda_2008[\"global_active_power\"]);\n",
    "ax.set_xlabel(\"Fecha\");\n",
    "ax.set_ylabel(\"Potencia activa global en kW\");\n",
    "ax.set_title(\"Evolución temporal de la potencia global activa consumida desde junio del 2008 hasta diciembre del 2008\");\n",
    "plt.xticks(rotation=45)\n",
    "plt.show();\n",
    "# --------------------\n"
   ]
  },
  {
   "cell_type": "markdown",
   "metadata": {},
   "source": [
    "### Exploración del perfil horario de la potencia global consumida.\n",
    "\n",
    "\n",
    "Vamos a explorar el perfil de evolución horario de la potencia global consumida.\n",
    "\n",
    "Para ello, empezamos por construir un `DataFrame` que llamaremos *resumen_horario* y que\n",
    "contenga el valor promedio de la potencia global activa consumida por hora (el promedio se hará, por hora, sobre todo\n",
    "el conjunto `vivienda`).\n",
    "\n",
    "`resumen_horario` tendrá por `index` la hora, y tendrá dos columnas `promedio`hora,  y n (el número de datos utilizado para calcular la media en cada grupo)\n",
    "\n",
    "> Para obtener la hora de la columna `index` de `vivienda`, podréis usar el método \n"
   ]
  },
  {
   "cell_type": "code",
   "execution_count": 11,
   "metadata": {},
   "outputs": [
    {
     "data": {
      "application/vnd.microsoft.datawrangler.viewer.v0+json": {
       "columns": [
        {
         "name": "date_hour",
         "rawType": "int32",
         "type": "integer"
        },
        {
         "name": "mean",
         "rawType": "float64",
         "type": "float"
        },
        {
         "name": "count",
         "rawType": "int64",
         "type": "integer"
        }
       ],
       "conversionMethod": "pd.DataFrame",
       "ref": "05eafff0-3a42-43fd-88c2-4ba7b683760b",
       "rows": [
        [
         "0",
         "0.659562105122554",
         "1426"
        ],
        [
         "1",
         "0.5393251638576778",
         "1424"
        ],
        [
         "2",
         "0.4806184524376309",
         "1424"
        ],
        [
         "3",
         "0.44484998520907937",
         "1424"
        ],
        [
         "4",
         "0.44384449009302435",
         "1422"
        ],
        [
         "5",
         "0.45367353976073194",
         "1421"
        ],
        [
         "6",
         "0.7916056214888059",
         "1421"
        ],
        [
         "7",
         "1.5023734094575159",
         "1422"
        ],
        [
         "8",
         "1.4609396575351834",
         "1422"
        ],
        [
         "9",
         "1.331642125235268",
         "1422"
        ],
        [
         "10",
         "1.2609130949975251",
         "1422"
        ],
        [
         "11",
         "1.2464080046673411",
         "1422"
        ],
        [
         "12",
         "1.2070608100613691",
         "1422"
        ],
        [
         "13",
         "1.1444705110949651",
         "1423"
        ],
        [
         "14",
         "1.0827499675934296",
         "1424"
        ],
        [
         "15",
         "0.9908055838107603",
         "1423"
        ],
        [
         "16",
         "0.9488052914442919",
         "1423"
        ],
        [
         "17",
         "1.0561635686832413",
         "1423"
        ],
        [
         "18",
         "1.3264331833775347",
         "1424"
        ],
        [
         "19",
         "1.733428007580264",
         "1427"
        ],
        [
         "20",
         "1.8990729520883258",
         "1427"
        ],
        [
         "21",
         "1.8760631202588185",
         "1428"
        ],
        [
         "22",
         "1.412681081503886",
         "1426"
        ],
        [
         "23",
         "0.9021416082281439",
         "1426"
        ]
       ],
       "shape": {
        "columns": 2,
        "rows": 24
       }
      },
      "text/html": [
       "<div>\n",
       "<style scoped>\n",
       "    .dataframe tbody tr th:only-of-type {\n",
       "        vertical-align: middle;\n",
       "    }\n",
       "\n",
       "    .dataframe tbody tr th {\n",
       "        vertical-align: top;\n",
       "    }\n",
       "\n",
       "    .dataframe thead th {\n",
       "        text-align: right;\n",
       "    }\n",
       "</style>\n",
       "<table border=\"1\" class=\"dataframe\">\n",
       "  <thead>\n",
       "    <tr style=\"text-align: right;\">\n",
       "      <th></th>\n",
       "      <th>mean</th>\n",
       "      <th>count</th>\n",
       "    </tr>\n",
       "    <tr>\n",
       "      <th>date_hour</th>\n",
       "      <th></th>\n",
       "      <th></th>\n",
       "    </tr>\n",
       "  </thead>\n",
       "  <tbody>\n",
       "    <tr>\n",
       "      <th>0</th>\n",
       "      <td>0.659562</td>\n",
       "      <td>1426</td>\n",
       "    </tr>\n",
       "    <tr>\n",
       "      <th>1</th>\n",
       "      <td>0.539325</td>\n",
       "      <td>1424</td>\n",
       "    </tr>\n",
       "    <tr>\n",
       "      <th>2</th>\n",
       "      <td>0.480618</td>\n",
       "      <td>1424</td>\n",
       "    </tr>\n",
       "    <tr>\n",
       "      <th>3</th>\n",
       "      <td>0.444850</td>\n",
       "      <td>1424</td>\n",
       "    </tr>\n",
       "    <tr>\n",
       "      <th>4</th>\n",
       "      <td>0.443844</td>\n",
       "      <td>1422</td>\n",
       "    </tr>\n",
       "    <tr>\n",
       "      <th>5</th>\n",
       "      <td>0.453674</td>\n",
       "      <td>1421</td>\n",
       "    </tr>\n",
       "    <tr>\n",
       "      <th>6</th>\n",
       "      <td>0.791606</td>\n",
       "      <td>1421</td>\n",
       "    </tr>\n",
       "    <tr>\n",
       "      <th>7</th>\n",
       "      <td>1.502373</td>\n",
       "      <td>1422</td>\n",
       "    </tr>\n",
       "    <tr>\n",
       "      <th>8</th>\n",
       "      <td>1.460940</td>\n",
       "      <td>1422</td>\n",
       "    </tr>\n",
       "    <tr>\n",
       "      <th>9</th>\n",
       "      <td>1.331642</td>\n",
       "      <td>1422</td>\n",
       "    </tr>\n",
       "    <tr>\n",
       "      <th>10</th>\n",
       "      <td>1.260913</td>\n",
       "      <td>1422</td>\n",
       "    </tr>\n",
       "    <tr>\n",
       "      <th>11</th>\n",
       "      <td>1.246408</td>\n",
       "      <td>1422</td>\n",
       "    </tr>\n",
       "    <tr>\n",
       "      <th>12</th>\n",
       "      <td>1.207061</td>\n",
       "      <td>1422</td>\n",
       "    </tr>\n",
       "    <tr>\n",
       "      <th>13</th>\n",
       "      <td>1.144471</td>\n",
       "      <td>1423</td>\n",
       "    </tr>\n",
       "    <tr>\n",
       "      <th>14</th>\n",
       "      <td>1.082750</td>\n",
       "      <td>1424</td>\n",
       "    </tr>\n",
       "    <tr>\n",
       "      <th>15</th>\n",
       "      <td>0.990806</td>\n",
       "      <td>1423</td>\n",
       "    </tr>\n",
       "    <tr>\n",
       "      <th>16</th>\n",
       "      <td>0.948805</td>\n",
       "      <td>1423</td>\n",
       "    </tr>\n",
       "    <tr>\n",
       "      <th>17</th>\n",
       "      <td>1.056164</td>\n",
       "      <td>1423</td>\n",
       "    </tr>\n",
       "    <tr>\n",
       "      <th>18</th>\n",
       "      <td>1.326433</td>\n",
       "      <td>1424</td>\n",
       "    </tr>\n",
       "    <tr>\n",
       "      <th>19</th>\n",
       "      <td>1.733428</td>\n",
       "      <td>1427</td>\n",
       "    </tr>\n",
       "    <tr>\n",
       "      <th>20</th>\n",
       "      <td>1.899073</td>\n",
       "      <td>1427</td>\n",
       "    </tr>\n",
       "    <tr>\n",
       "      <th>21</th>\n",
       "      <td>1.876063</td>\n",
       "      <td>1428</td>\n",
       "    </tr>\n",
       "    <tr>\n",
       "      <th>22</th>\n",
       "      <td>1.412681</td>\n",
       "      <td>1426</td>\n",
       "    </tr>\n",
       "    <tr>\n",
       "      <th>23</th>\n",
       "      <td>0.902142</td>\n",
       "      <td>1426</td>\n",
       "    </tr>\n",
       "  </tbody>\n",
       "</table>\n",
       "</div>"
      ],
      "text/plain": [
       "               mean  count\n",
       "date_hour                 \n",
       "0          0.659562   1426\n",
       "1          0.539325   1424\n",
       "2          0.480618   1424\n",
       "3          0.444850   1424\n",
       "4          0.443844   1422\n",
       "5          0.453674   1421\n",
       "6          0.791606   1421\n",
       "7          1.502373   1422\n",
       "8          1.460940   1422\n",
       "9          1.331642   1422\n",
       "10         1.260913   1422\n",
       "11         1.246408   1422\n",
       "12         1.207061   1422\n",
       "13         1.144471   1423\n",
       "14         1.082750   1424\n",
       "15         0.990806   1423\n",
       "16         0.948805   1423\n",
       "17         1.056164   1423\n",
       "18         1.326433   1424\n",
       "19         1.733428   1427\n",
       "20         1.899073   1427\n",
       "21         1.876063   1428\n",
       "22         1.412681   1426\n",
       "23         0.902142   1426"
      ]
     },
     "execution_count": 11,
     "metadata": {},
     "output_type": "execute_result"
    }
   ],
   "source": [
    "# Completar aquí\n",
    "resumen_horario = vivienda.groupby(vivienda.index.hour)[\"global_active_power\"].agg(\n",
    "    {   \"mean\",\n",
    "        \"count\",\n",
    "        }\n",
    "    )\n",
    "# --------------------\n",
    "resumen_horario\n"
   ]
  },
  {
   "cell_type": "markdown",
   "metadata": {},
   "source": [
    "Podemos ahora representar gráficamente el perfil de evolución horario usando `resumen_horario`\n",
    "(Global_active_power promedio en función de hora). Queremos hacerlo con barras verticales. "
   ]
  },
  {
   "cell_type": "code",
   "execution_count": 12,
   "metadata": {},
   "outputs": [
    {
     "data": {
      "image/png": "[encoded data removed]",
      "text/plain": [
       "<Figure size 640x480 with 1 Axes>"
      ]
     },
     "metadata": {},
     "output_type": "display_data"
    }
   ],
   "source": [
    "# Completar aquí\n",
    "resumen_horario[\"mean\"].plot(kind=\"bar\");\n",
    "# --------------------\n"
   ]
  },
  {
   "cell_type": "markdown",
   "metadata": {},
   "source": [
    "### Opcional:\n",
    "Podemos añadir el valor de la potencia calculada encima de cada barra en la gráfica"
   ]
  },
  {
   "cell_type": "code",
   "execution_count": 16,
   "metadata": {},
   "outputs": [
    {
     "data": {
      "image/png": "[encoded data removed]",
      "text/plain": [
       "<Figure size 640x480 with 1 Axes>"
      ]
     },
     "metadata": {},
     "output_type": "display_data"
    }
   ],
   "source": [
    "# Completar aquí\n",
    "resumen_horario[\"mean\"].plot(kind=\"bar\");\n",
    "\n",
    "for i in range(len(resumen_horario)):\n",
    "    plt.text(i, resumen_horario.iloc[i][\"mean\"], round(resumen_horario.iloc[i][\"mean\"],2), ha=\"center\") \n",
    "# Completar aquí\n",
    "resumen_horario[\"mean\"].plot(kind=\"bar\");\n",
    "plt.show()\n",
    "# --------------------\n",
    "\n",
    "\n",
    "\n",
    "# --------------------\n"
   ]
  },
  {
   "cell_type": "markdown",
   "metadata": {},
   "source": [
    "Vamos a ver si el perfil de evolución horaria es diferente según los días de la semana. Para ello,\n",
    "necesitamos crear un nuevo `Series` resumen, que se llamará `resumen_horario_dia`, y que contenga\n",
    "el promedio  de la potencia global activa consumida si desglosamos los datos por hora *y por día de la semana*.\n",
    "Empezamos por crear dos columnas `dia_semana` y `hora` en el DataFrame `vivienda` usando los atributos `weekday` y `hour` de su índice.\n",
    "\n"
   ]
  },
  {
   "cell_type": "code",
   "execution_count": 18,
   "metadata": {},
   "outputs": [
    {
     "data": {
      "application/vnd.microsoft.datawrangler.viewer.v0+json": {
       "columns": [
        {
         "name": "date_hour",
         "rawType": "datetime64[ns]",
         "type": "datetime"
        },
        {
         "name": "global_active_power",
         "rawType": "float64",
         "type": "float"
        },
        {
         "name": "global_reactive_power",
         "rawType": "float64",
         "type": "float"
        },
        {
         "name": "voltage",
         "rawType": "float64",
         "type": "float"
        },
        {
         "name": "vlobal_intensity",
         "rawType": "float64",
         "type": "float"
        },
        {
         "name": "sub_metering_1",
         "rawType": "float64",
         "type": "float"
        },
        {
         "name": "sub_metering_2",
         "rawType": "float64",
         "type": "float"
        },
        {
         "name": "sub_metering_3",
         "rawType": "float64",
         "type": "float"
        },
        {
         "name": "dia_semana",
         "rawType": "int32",
         "type": "integer"
        }
       ],
       "conversionMethod": "pd.DataFrame",
       "ref": "f80f56ef-09c1-4932-8ea0-5ab322035f73",
       "rows": [
        [
         "2006-12-16 17:00:00",
         "4.22288888888889",
         "0.229",
         "234.643888888889",
         "18.1",
         "0.0",
         "0.527777777777778",
         "16.8611111111111",
         "5"
        ],
        [
         "2006-12-16 18:00:00",
         "3.6322",
         "0.0800333333333333",
         "234.580166666667",
         "15.6",
         "0.0",
         "6.71666666666667",
         "16.8666666666667",
         "5"
        ],
        [
         "2006-12-16 19:00:00",
         "3.40023333333333",
         "0.0852333333333333",
         "233.2325",
         "14.5033333333333",
         "0.0",
         "1.43333333333333",
         "16.6833333333333",
         "5"
        ],
        [
         "2006-12-16 20:00:00",
         "3.26856666666667",
         "0.0751",
         "234.0715",
         "13.9166666666667",
         "0.0",
         "0.0",
         "16.7833333333333",
         "5"
        ],
        [
         "2006-12-16 21:00:00",
         "3.05646666666667",
         "0.0766666666666667",
         "237.158666666667",
         "13.0466666666667",
         "0.0",
         "0.416666666666667",
         "17.2166666666667",
         "5"
        ],
        [
         "2006-12-16 22:00:00",
         "2.20013333333333",
         "0.0561666666666667",
         "238.76",
         "9.52333333333333",
         "0.0",
         "0.133333333333333",
         "4.43333333333333",
         "5"
        ],
        [
         "2006-12-16 23:00:00",
         "2.0616",
         "0.0714333333333333",
         "240.619666666667",
         "8.89666666666667",
         "0.0",
         "0.0833333333333333",
         "0.0",
         "5"
        ],
        [
         "2006-12-17 00:00:00",
         "1.88246666666667",
         "0.102433333333333",
         "240.961833333333",
         "8.12666666666667",
         "0.0",
         "0.466666666666667",
         "0.0",
         "6"
        ],
        [
         "2006-12-17 01:00:00",
         "3.3494",
         "0.136933333333333",
         "240.448333333333",
         "14.2466666666667",
         "0.0",
         "25.2333333333333",
         "0.0",
         "6"
        ],
        [
         "2006-12-17 02:00:00",
         "1.58726666666667",
         "0.0782333333333333",
         "245.818666666667",
         "6.87",
         "0.0",
         "0.566666666666667",
         "0.0",
         "6"
        ],
        [
         "2006-12-17 03:00:00",
         "1.6622",
         "0.0795333333333333",
         "244.5135",
         "7.20666666666667",
         "0.0",
         "0.766666666666667",
         "0.0",
         "6"
        ],
        [
         "2006-12-17 04:00:00",
         "2.21576666666667",
         "0.0934666666666667",
         "243.8555",
         "9.33333333333333",
         "0.0",
         "0.566666666666667",
         "8.88333333333333",
         "6"
        ],
        [
         "2006-12-17 05:00:00",
         "1.99673333333333",
         "0.0602333333333333",
         "243.710166666667",
         "8.56666666666667",
         "0.0",
         "0.166666666666667",
         "4.65",
         "6"
        ],
        [
         "2006-12-17 06:00:00",
         "1.3033",
         "0.0948333333333333",
         "244.1415",
         "5.53",
         "0.0",
         "0.716666666666667",
         "0.0",
         "6"
        ],
        [
         "2006-12-17 07:00:00",
         "1.62003333333333",
         "0.0598",
         "241.845666666667",
         "6.80333333333333",
         "0.0",
         "0.166666666666667",
         "0.0",
         "6"
        ],
        [
         "2006-12-17 08:00:00",
         "1.89056666666667",
         "0.118566666666667",
         "241.3115",
         "8.05",
         "0.0",
         "0.75",
         "0.0",
         "6"
        ],
        [
         "2006-12-17 09:00:00",
         "2.54906666666667",
         "0.0792333333333333",
         "238.847833333333",
         "10.9733333333333",
         "0.0",
         "7.31666666666667",
         "0.0",
         "6"
        ],
        [
         "2006-12-17 10:00:00",
         "3.6289",
         "0.1946",
         "235.441",
         "15.5333333333333",
         "8.88333333333333",
         "22.35",
         "16.15",
         "6"
        ],
        [
         "2006-12-17 11:00:00",
         "2.471",
         "0.2007",
         "236.924666666667",
         "10.4933333333333",
         "9.45",
         "5.01666666666667",
         "17.1833333333333",
         "6"
        ],
        [
         "2006-12-17 12:00:00",
         "1.91586666666667",
         "0.294033333333333",
         "237.784666666667",
         "8.13666666666667",
         "0.0",
         "0.533333333333333",
         "17.3166666666667",
         "6"
        ],
        [
         "2006-12-17 13:00:00",
         "1.66076666666667",
         "0.171533333333333",
         "239.920666666667",
         "6.92333333333333",
         "0.0",
         "0.05",
         "17.6166666666667",
         "6"
        ],
        [
         "2006-12-17 14:00:00",
         "2.09263333333333",
         "0.2574",
         "244.045666666667",
         "8.6",
         "0.0",
         "0.333333333333333",
         "18.2333333333333",
         "6"
        ],
        [
         "2006-12-17 15:00:00",
         "2.9854",
         "0.0886",
         "240.480833333333",
         "12.4266666666667",
         "6.96666666666667",
         "0.2",
         "17.7",
         "6"
        ],
        [
         "2006-12-17 16:00:00",
         "3.32603333333333",
         "0.0931333333333333",
         "236.781833333333",
         "14.0066666666667",
         "8.58333333333333",
         "0.0666666666666667",
         "17.1666666666667",
         "6"
        ],
        [
         "2006-12-17 17:00:00",
         "3.40676666666667",
         "0.166633333333333",
         "234.229833333333",
         "14.51",
         "0.0",
         "0.466666666666667",
         "16.8166666666667",
         "6"
        ],
        [
         "2006-12-17 18:00:00",
         "3.6971",
         "0.135066666666667",
         "234.372333333333",
         "15.75",
         "0.0",
         "0.0",
         "16.8333333333333",
         "6"
        ],
        [
         "2006-12-17 19:00:00",
         "2.9084",
         "0.265166666666667",
         "233.195666666667",
         "12.5166666666667",
         "0.0",
         "0.516666666666667",
         "16.6833333333333",
         "6"
        ],
        [
         "2006-12-17 20:00:00",
         "3.3615",
         "0.2715",
         "236.4265",
         "14.2766666666667",
         "0.0",
         "1.11666666666667",
         "17.1166666666667",
         "6"
        ],
        [
         "2006-12-17 21:00:00",
         "3.04076666666667",
         "0.267966666666667",
         "239.104166666667",
         "12.7166666666667",
         "0.0",
         "1.2",
         "17.5",
         "6"
        ],
        [
         "2006-12-17 22:00:00",
         "1.518",
         "0.235366666666667",
         "242.192333333333",
         "6.38333333333333",
         "0.0",
         "0.416666666666667",
         "2.5",
         "6"
        ],
        [
         "2006-12-17 23:00:00",
         "0.437733333333333",
         "0.2218",
         "245.734",
         "1.99666666666667",
         "0.0",
         "0.8",
         "0.0",
         "6"
        ],
        [
         "2006-12-18 00:00:00",
         "0.276366666666667",
         "0.0990666666666667",
         "244.6075",
         "1.22333333333333",
         "0.0",
         "0.0333333333333333",
         "0.0",
         "0"
        ],
        [
         "2006-12-18 01:00:00",
         "0.3133",
         "0.1519",
         "243.519333333333",
         "1.41666666666667",
         "0.0",
         "0.583333333333333",
         "0.0",
         "0"
        ],
        [
         "2006-12-18 02:00:00",
         "0.284466666666667",
         "0.109066666666667",
         "246.891",
         "1.25666666666667",
         "0.0",
         "0.0",
         "0.0",
         "0"
        ],
        [
         "2006-12-18 03:00:00",
         "0.309933333333333",
         "0.147766666666667",
         "245.731833333333",
         "1.4",
         "0.0",
         "0.566666666666667",
         "0.0",
         "0"
        ],
        [
         "2006-12-18 04:00:00",
         "1.02633333333333",
         "0.08",
         "245.507",
         "4.17666666666667",
         "0.0",
         "0.0666666666666667",
         "12.55",
         "0"
        ],
        [
         "2006-12-18 05:00:00",
         "0.2935",
         "0.121933333333333",
         "245.253166666667",
         "1.29333333333333",
         "0.0",
         "0.466666666666667",
         "0.0",
         "0"
        ],
        [
         "2006-12-18 06:00:00",
         "0.61",
         "0.1129",
         "245.704333333333",
         "2.6",
         "0.0",
         "0.0833333333333333",
         "0.0",
         "0"
        ],
        [
         "2006-12-18 07:00:00",
         "2.45043333333333",
         "0.153",
         "240.962333333333",
         "10.22",
         "0.0833333333333333",
         "0.45",
         "11.3",
         "0"
        ],
        [
         "2006-12-18 08:00:00",
         "2.08213333333333",
         "0.0737333333333333",
         "237.880333333333",
         "8.72666666666667",
         "12.4666666666667",
         "0.0333333333333333",
         "17.35",
         "0"
        ],
        [
         "2006-12-18 09:00:00",
         "1.62933333333333",
         "0.0851666666666667",
         "237.404666666667",
         "6.81666666666667",
         "5.16666666666667",
         "0.483333333333333",
         "17.2666666666667",
         "0"
        ],
        [
         "2006-12-18 10:00:00",
         "1.30963333333333",
         "0.0528333333333333",
         "239.0805",
         "5.42666666666667",
         "0.0",
         "0.0",
         "17.5",
         "0"
        ],
        [
         "2006-12-18 11:00:00",
         "1.56193333333333",
         "0.127333333333333",
         "239.771",
         "6.47",
         "0.0",
         "0.516666666666667",
         "17.6",
         "0"
        ],
        [
         "2006-12-18 12:00:00",
         "1.75606666666667",
         "0.0873",
         "242.58",
         "7.24666666666667",
         "0.0",
         "0.0",
         "18.0166666666667",
         "0"
        ],
        [
         "2006-12-18 13:00:00",
         "1.68206666666667",
         "0.1265",
         "241.954166666667",
         "6.94",
         "0.0",
         "0.533333333333333",
         "17.3666666666667",
         "0"
        ],
        [
         "2006-12-18 14:00:00",
         "1.73303333333333",
         "0.0493",
         "242.1965",
         "7.09666666666667",
         "0.0",
         "0.0",
         "17.3833333333333",
         "0"
        ],
        [
         "2006-12-18 15:00:00",
         "1.7843",
         "0.104066666666667",
         "242.4235",
         "7.31",
         "0.0",
         "0.516666666666667",
         "17.9833333333333",
         "0"
        ],
        [
         "2006-12-18 16:00:00",
         "1.9493",
         "0.204433333333333",
         "242.380666666667",
         "8.09666666666667",
         "0.0",
         "0.0",
         "17.9833333333333",
         "0"
        ],
        [
         "2006-12-18 17:00:00",
         "2.1549",
         "0.0978",
         "238.729166666667",
         "8.99333333333333",
         "0.0",
         "0.333333333333333",
         "17.45",
         "0"
        ],
        [
         "2006-12-18 18:00:00",
         "2.40253333333333",
         "0.0791",
         "236.6685",
         "10.0833333333333",
         "0.0",
         "0.25",
         "16.9166666666667",
         "0"
        ]
       ],
       "shape": {
        "columns": 8,
        "rows": 34589
       }
      },
      "text/html": [
       "<div>\n",
       "<style scoped>\n",
       "    .dataframe tbody tr th:only-of-type {\n",
       "        vertical-align: middle;\n",
       "    }\n",
       "\n",
       "    .dataframe tbody tr th {\n",
       "        vertical-align: top;\n",
       "    }\n",
       "\n",
       "    .dataframe thead th {\n",
       "        text-align: right;\n",
       "    }\n",
       "</style>\n",
       "<table border=\"1\" class=\"dataframe\">\n",
       "  <thead>\n",
       "    <tr style=\"text-align: right;\">\n",
       "      <th></th>\n",
       "      <th>global_active_power</th>\n",
       "      <th>global_reactive_power</th>\n",
       "      <th>voltage</th>\n",
       "      <th>vlobal_intensity</th>\n",
       "      <th>sub_metering_1</th>\n",
       "      <th>sub_metering_2</th>\n",
       "      <th>sub_metering_3</th>\n",
       "      <th>dia_semana</th>\n",
       "    </tr>\n",
       "    <tr>\n",
       "      <th>date_hour</th>\n",
       "      <th></th>\n",
       "      <th></th>\n",
       "      <th></th>\n",
       "      <th></th>\n",
       "      <th></th>\n",
       "      <th></th>\n",
       "      <th></th>\n",
       "      <th></th>\n",
       "    </tr>\n",
       "  </thead>\n",
       "  <tbody>\n",
       "    <tr>\n",
       "      <th>2006-12-16 17:00:00</th>\n",
       "      <td>4.222889</td>\n",
       "      <td>0.229000</td>\n",
       "      <td>234.643889</td>\n",
       "      <td>18.100000</td>\n",
       "      <td>0.0</td>\n",
       "      <td>0.527778</td>\n",
       "      <td>16.861111</td>\n",
       "      <td>5</td>\n",
       "    </tr>\n",
       "    <tr>\n",
       "      <th>2006-12-16 18:00:00</th>\n",
       "      <td>3.632200</td>\n",
       "      <td>0.080033</td>\n",
       "      <td>234.580167</td>\n",
       "      <td>15.600000</td>\n",
       "      <td>0.0</td>\n",
       "      <td>6.716667</td>\n",
       "      <td>16.866667</td>\n",
       "      <td>5</td>\n",
       "    </tr>\n",
       "    <tr>\n",
       "      <th>2006-12-16 19:00:00</th>\n",
       "      <td>3.400233</td>\n",
       "      <td>0.085233</td>\n",
       "      <td>233.232500</td>\n",
       "      <td>14.503333</td>\n",
       "      <td>0.0</td>\n",
       "      <td>1.433333</td>\n",
       "      <td>16.683333</td>\n",
       "      <td>5</td>\n",
       "    </tr>\n",
       "    <tr>\n",
       "      <th>2006-12-16 20:00:00</th>\n",
       "      <td>3.268567</td>\n",
       "      <td>0.075100</td>\n",
       "      <td>234.071500</td>\n",
       "      <td>13.916667</td>\n",
       "      <td>0.0</td>\n",
       "      <td>0.000000</td>\n",
       "      <td>16.783333</td>\n",
       "      <td>5</td>\n",
       "    </tr>\n",
       "    <tr>\n",
       "      <th>2006-12-16 21:00:00</th>\n",
       "      <td>3.056467</td>\n",
       "      <td>0.076667</td>\n",
       "      <td>237.158667</td>\n",
       "      <td>13.046667</td>\n",
       "      <td>0.0</td>\n",
       "      <td>0.416667</td>\n",
       "      <td>17.216667</td>\n",
       "      <td>5</td>\n",
       "    </tr>\n",
       "    <tr>\n",
       "      <th>...</th>\n",
       "      <td>...</td>\n",
       "      <td>...</td>\n",
       "      <td>...</td>\n",
       "      <td>...</td>\n",
       "      <td>...</td>\n",
       "      <td>...</td>\n",
       "      <td>...</td>\n",
       "      <td>...</td>\n",
       "    </tr>\n",
       "    <tr>\n",
       "      <th>2010-11-26 17:00:00</th>\n",
       "      <td>1.725900</td>\n",
       "      <td>0.061400</td>\n",
       "      <td>237.069667</td>\n",
       "      <td>7.216667</td>\n",
       "      <td>0.0</td>\n",
       "      <td>0.000000</td>\n",
       "      <td>12.866667</td>\n",
       "      <td>4</td>\n",
       "    </tr>\n",
       "    <tr>\n",
       "      <th>2010-11-26 18:00:00</th>\n",
       "      <td>1.573467</td>\n",
       "      <td>0.053700</td>\n",
       "      <td>237.531833</td>\n",
       "      <td>6.620000</td>\n",
       "      <td>0.0</td>\n",
       "      <td>0.000000</td>\n",
       "      <td>0.000000</td>\n",
       "      <td>4</td>\n",
       "    </tr>\n",
       "    <tr>\n",
       "      <th>2010-11-26 19:00:00</th>\n",
       "      <td>1.659333</td>\n",
       "      <td>0.060033</td>\n",
       "      <td>236.741000</td>\n",
       "      <td>7.056667</td>\n",
       "      <td>0.0</td>\n",
       "      <td>0.066667</td>\n",
       "      <td>0.000000</td>\n",
       "      <td>4</td>\n",
       "    </tr>\n",
       "    <tr>\n",
       "      <th>2010-11-26 20:00:00</th>\n",
       "      <td>1.163700</td>\n",
       "      <td>0.061167</td>\n",
       "      <td>239.396000</td>\n",
       "      <td>4.913333</td>\n",
       "      <td>0.0</td>\n",
       "      <td>1.066667</td>\n",
       "      <td>0.000000</td>\n",
       "      <td>4</td>\n",
       "    </tr>\n",
       "    <tr>\n",
       "      <th>2010-11-26 21:00:00</th>\n",
       "      <td>0.934667</td>\n",
       "      <td>0.000000</td>\n",
       "      <td>239.690000</td>\n",
       "      <td>3.800000</td>\n",
       "      <td>0.0</td>\n",
       "      <td>0.000000</td>\n",
       "      <td>0.000000</td>\n",
       "      <td>4</td>\n",
       "    </tr>\n",
       "  </tbody>\n",
       "</table>\n",
       "<p>34589 rows × 8 columns</p>\n",
       "</div>"
      ],
      "text/plain": [
       "                     global_active_power  global_reactive_power     voltage  \\\n",
       "date_hour                                                                     \n",
       "2006-12-16 17:00:00             4.222889               0.229000  234.643889   \n",
       "2006-12-16 18:00:00             3.632200               0.080033  234.580167   \n",
       "2006-12-16 19:00:00             3.400233               0.085233  233.232500   \n",
       "2006-12-16 20:00:00             3.268567               0.075100  234.071500   \n",
       "2006-12-16 21:00:00             3.056467               0.076667  237.158667   \n",
       "...                                  ...                    ...         ...   \n",
       "2010-11-26 17:00:00             1.725900               0.061400  237.069667   \n",
       "2010-11-26 18:00:00             1.573467               0.053700  237.531833   \n",
       "2010-11-26 19:00:00             1.659333               0.060033  236.741000   \n",
       "2010-11-26 20:00:00             1.163700               0.061167  239.396000   \n",
       "2010-11-26 21:00:00             0.934667               0.000000  239.690000   \n",
       "\n",
       "                     vlobal_intensity  sub_metering_1  sub_metering_2  \\\n",
       "date_hour                                                               \n",
       "2006-12-16 17:00:00         18.100000             0.0        0.527778   \n",
       "2006-12-16 18:00:00         15.600000             0.0        6.716667   \n",
       "2006-12-16 19:00:00         14.503333             0.0        1.433333   \n",
       "2006-12-16 20:00:00         13.916667             0.0        0.000000   \n",
       "2006-12-16 21:00:00         13.046667             0.0        0.416667   \n",
       "...                               ...             ...             ...   \n",
       "2010-11-26 17:00:00          7.216667             0.0        0.000000   \n",
       "2010-11-26 18:00:00          6.620000             0.0        0.000000   \n",
       "2010-11-26 19:00:00          7.056667             0.0        0.066667   \n",
       "2010-11-26 20:00:00          4.913333             0.0        1.066667   \n",
       "2010-11-26 21:00:00          3.800000             0.0        0.000000   \n",
       "\n",
       "                     sub_metering_3  dia_semana  \n",
       "date_hour                                        \n",
       "2006-12-16 17:00:00       16.861111           5  \n",
       "2006-12-16 18:00:00       16.866667           5  \n",
       "2006-12-16 19:00:00       16.683333           5  \n",
       "2006-12-16 20:00:00       16.783333           5  \n",
       "2006-12-16 21:00:00       17.216667           5  \n",
       "...                             ...         ...  \n",
       "2010-11-26 17:00:00       12.866667           4  \n",
       "2010-11-26 18:00:00        0.000000           4  \n",
       "2010-11-26 19:00:00        0.000000           4  \n",
       "2010-11-26 20:00:00        0.000000           4  \n",
       "2010-11-26 21:00:00        0.000000           4  \n",
       "\n",
       "[34589 rows x 8 columns]"
      ]
     },
     "execution_count": 18,
     "metadata": {},
     "output_type": "execute_result"
    }
   ],
   "source": [
    "# Completar aquí\n",
    "vivienda[\"dia_semana\"] = vivienda.index.weekday\n",
    "# --------------------\n",
    "vivienda"
   ]
  },
  {
   "cell_type": "markdown",
   "metadata": {},
   "source": [
    "Calculamos ahora `resumen_horario_dia`."
   ]
  },
  {
   "cell_type": "code",
   "execution_count": 19,
   "metadata": {},
   "outputs": [
    {
     "data": {
      "application/vnd.microsoft.datawrangler.viewer.v0+json": {
       "columns": [
        {
         "name": "('dia_semana', 'hora')",
         "rawType": "object",
         "type": "unknown"
        },
        {
         "name": "mean",
         "rawType": "float64",
         "type": "float"
        },
        {
         "name": "count",
         "rawType": "int64",
         "type": "integer"
        }
       ],
       "conversionMethod": "pd.DataFrame",
       "ref": "258039a9-23ec-4b28-b416-a4fad366a1e2",
       "rows": [
        [
         "(0, 0)",
         "0.531491133004926",
         "203"
        ],
        [
         "(0, 1)",
         "0.4503183908045977",
         "203"
        ],
        [
         "(0, 2)",
         "0.41321198686371097",
         "203"
        ],
        [
         "(0, 3)",
         "0.42354909688013137",
         "203"
        ],
        [
         "(0, 4)",
         "0.428247619047619",
         "203"
        ],
        [
         "(0, 5)",
         "0.41670541871921174",
         "203"
        ],
        [
         "(0, 6)",
         "0.8194070607553365",
         "203"
        ],
        [
         "(0, 7)",
         "1.717648660130719",
         "204"
        ],
        [
         "(0, 8)",
         "1.4976740196078433",
         "204"
        ],
        [
         "(0, 9)",
         "1.373733496732026",
         "204"
        ],
        [
         "(0, 10)",
         "1.19212091503268",
         "204"
        ],
        [
         "(0, 11)",
         "1.0830483660130719",
         "204"
        ],
        [
         "(0, 12)",
         "1.0644150326797386",
         "204"
        ],
        [
         "(0, 13)",
         "0.8741467514124293",
         "204"
        ],
        [
         "(0, 14)",
         "0.7566348509485095",
         "205"
        ],
        [
         "(0, 15)",
         "0.734080650406504",
         "205"
        ],
        [
         "(0, 16)",
         "0.7068408130081301",
         "205"
        ],
        [
         "(0, 17)",
         "0.7863149226034633",
         "205"
        ],
        [
         "(0, 18)",
         "1.0927816091954026",
         "205"
        ],
        [
         "(0, 19)",
         "1.5695113821138214",
         "205"
        ],
        [
         "(0, 20)",
         "1.891151613614441",
         "205"
        ],
        [
         "(0, 21)",
         "1.9082815764089842",
         "205"
        ],
        [
         "(0, 22)",
         "1.390437428689541",
         "205"
        ],
        [
         "(0, 23)",
         "0.8438822764227641",
         "205"
        ],
        [
         "(1, 0)",
         "0.6079843902439025",
         "205"
        ],
        [
         "(1, 1)",
         "0.4672039024390244",
         "205"
        ],
        [
         "(1, 2)",
         "0.43902504065040654",
         "205"
        ],
        [
         "(1, 3)",
         "0.4258678048780488",
         "205"
        ],
        [
         "(1, 4)",
         "0.4397660077021823",
         "205"
        ],
        [
         "(1, 5)",
         "0.4271258536585367",
         "205"
        ],
        [
         "(1, 6)",
         "0.8566819512195122",
         "205"
        ],
        [
         "(1, 7)",
         "1.686487642276423",
         "205"
        ],
        [
         "(1, 8)",
         "1.606509756097561",
         "205"
        ],
        [
         "(1, 9)",
         "1.3424817886178866",
         "205"
        ],
        [
         "(1, 10)",
         "1.226430948509485",
         "205"
        ],
        [
         "(1, 11)",
         "1.248820487804878",
         "205"
        ],
        [
         "(1, 12)",
         "1.2470288253434259",
         "205"
        ],
        [
         "(1, 13)",
         "1.200677723577236",
         "205"
        ],
        [
         "(1, 14)",
         "1.014514373370149",
         "205"
        ],
        [
         "(1, 15)",
         "0.9287950980392157",
         "204"
        ],
        [
         "(1, 16)",
         "0.868517367342417",
         "204"
        ],
        [
         "(1, 17)",
         "0.9146037581699346",
         "204"
        ],
        [
         "(1, 18)",
         "1.1682694444444444",
         "204"
        ],
        [
         "(1, 19)",
         "1.5863156685694515",
         "205"
        ],
        [
         "(1, 20)",
         "1.8654382113821137",
         "205"
        ],
        [
         "(1, 21)",
         "1.8412893075413512",
         "205"
        ],
        [
         "(1, 22)",
         "1.4638797385620914",
         "204"
        ],
        [
         "(1, 23)",
         "0.8005408496732027",
         "204"
        ],
        [
         "(2, 0)",
         "0.563741503267974",
         "204"
        ],
        [
         "(2, 1)",
         "0.4875321895424838",
         "204"
        ]
       ],
       "shape": {
        "columns": 2,
        "rows": 168
       }
      },
      "text/html": [
       "<div>\n",
       "<style scoped>\n",
       "    .dataframe tbody tr th:only-of-type {\n",
       "        vertical-align: middle;\n",
       "    }\n",
       "\n",
       "    .dataframe tbody tr th {\n",
       "        vertical-align: top;\n",
       "    }\n",
       "\n",
       "    .dataframe thead th {\n",
       "        text-align: right;\n",
       "    }\n",
       "</style>\n",
       "<table border=\"1\" class=\"dataframe\">\n",
       "  <thead>\n",
       "    <tr style=\"text-align: right;\">\n",
       "      <th></th>\n",
       "      <th></th>\n",
       "      <th>mean</th>\n",
       "      <th>count</th>\n",
       "    </tr>\n",
       "    <tr>\n",
       "      <th>dia_semana</th>\n",
       "      <th>hora</th>\n",
       "      <th></th>\n",
       "      <th></th>\n",
       "    </tr>\n",
       "  </thead>\n",
       "  <tbody>\n",
       "    <tr>\n",
       "      <th rowspan=\"5\" valign=\"top\">0</th>\n",
       "      <th>0</th>\n",
       "      <td>0.531491</td>\n",
       "      <td>203</td>\n",
       "    </tr>\n",
       "    <tr>\n",
       "      <th>1</th>\n",
       "      <td>0.450318</td>\n",
       "      <td>203</td>\n",
       "    </tr>\n",
       "    <tr>\n",
       "      <th>2</th>\n",
       "      <td>0.413212</td>\n",
       "      <td>203</td>\n",
       "    </tr>\n",
       "    <tr>\n",
       "      <th>3</th>\n",
       "      <td>0.423549</td>\n",
       "      <td>203</td>\n",
       "    </tr>\n",
       "    <tr>\n",
       "      <th>4</th>\n",
       "      <td>0.428248</td>\n",
       "      <td>203</td>\n",
       "    </tr>\n",
       "    <tr>\n",
       "      <th>...</th>\n",
       "      <th>...</th>\n",
       "      <td>...</td>\n",
       "      <td>...</td>\n",
       "    </tr>\n",
       "    <tr>\n",
       "      <th rowspan=\"5\" valign=\"top\">6</th>\n",
       "      <th>19</th>\n",
       "      <td>2.026754</td>\n",
       "      <td>202</td>\n",
       "    </tr>\n",
       "    <tr>\n",
       "      <th>20</th>\n",
       "      <td>2.157163</td>\n",
       "      <td>202</td>\n",
       "    </tr>\n",
       "    <tr>\n",
       "      <th>21</th>\n",
       "      <td>2.089381</td>\n",
       "      <td>203</td>\n",
       "    </tr>\n",
       "    <tr>\n",
       "      <th>22</th>\n",
       "      <td>1.387676</td>\n",
       "      <td>203</td>\n",
       "    </tr>\n",
       "    <tr>\n",
       "      <th>23</th>\n",
       "      <td>0.834612</td>\n",
       "      <td>203</td>\n",
       "    </tr>\n",
       "  </tbody>\n",
       "</table>\n",
       "<p>168 rows × 2 columns</p>\n",
       "</div>"
      ],
      "text/plain": [
       "                     mean  count\n",
       "dia_semana hora                 \n",
       "0          0     0.531491    203\n",
       "           1     0.450318    203\n",
       "           2     0.413212    203\n",
       "           3     0.423549    203\n",
       "           4     0.428248    203\n",
       "...                   ...    ...\n",
       "6          19    2.026754    202\n",
       "           20    2.157163    202\n",
       "           21    2.089381    203\n",
       "           22    1.387676    203\n",
       "           23    0.834612    203\n",
       "\n",
       "[168 rows x 2 columns]"
      ]
     },
     "execution_count": 19,
     "metadata": {},
     "output_type": "execute_result"
    }
   ],
   "source": [
    "# Completar aquí\n",
    "resumen_horario_dia = vivienda.groupby([\"dia_semana\", vivienda.index.hour])[\"global_active_power\"].agg(\n",
    "    {   \"mean\",\n",
    "        \"count\",\n",
    "        }\n",
    "    )\n",
    "resumen_horario_dia.index.set_names([\"dia_semana\", \"hora\"], inplace=True)\n",
    "# --------------------\n",
    "resumen_horario_dia"
   ]
  },
  {
   "cell_type": "markdown",
   "metadata": {},
   "source": [
    "Aplicamos el método `reset_index` (referencia: [enlace](https://pandas.pydata.org/pandas-docs/stable/reference/api/pandas.DataFrame.reset_index.html)) a `resumen_horario_dia`, para que el índice multinivel resultado de groupby dé lugar a dos columnas que correspondan a día de la semana y a hora del día. "
   ]
  },
  {
   "cell_type": "code",
   "execution_count": 20,
   "metadata": {},
   "outputs": [
    {
     "data": {
      "application/vnd.microsoft.datawrangler.viewer.v0+json": {
       "columns": [
        {
         "name": "index",
         "rawType": "int64",
         "type": "integer"
        },
        {
         "name": "dia_semana",
         "rawType": "int32",
         "type": "integer"
        },
        {
         "name": "hora",
         "rawType": "int32",
         "type": "integer"
        },
        {
         "name": "mean",
         "rawType": "float64",
         "type": "float"
        },
        {
         "name": "count",
         "rawType": "int64",
         "type": "integer"
        }
       ],
       "conversionMethod": "pd.DataFrame",
       "ref": "8f302a7b-a9c9-47a2-8bee-c5698673e100",
       "rows": [
        [
         "0",
         "0",
         "0",
         "0.531491133004926",
         "203"
        ],
        [
         "1",
         "0",
         "1",
         "0.4503183908045977",
         "203"
        ],
        [
         "2",
         "0",
         "2",
         "0.41321198686371097",
         "203"
        ],
        [
         "3",
         "0",
         "3",
         "0.42354909688013137",
         "203"
        ],
        [
         "4",
         "0",
         "4",
         "0.428247619047619",
         "203"
        ],
        [
         "5",
         "0",
         "5",
         "0.41670541871921174",
         "203"
        ],
        [
         "6",
         "0",
         "6",
         "0.8194070607553365",
         "203"
        ],
        [
         "7",
         "0",
         "7",
         "1.717648660130719",
         "204"
        ],
        [
         "8",
         "0",
         "8",
         "1.4976740196078433",
         "204"
        ],
        [
         "9",
         "0",
         "9",
         "1.373733496732026",
         "204"
        ],
        [
         "10",
         "0",
         "10",
         "1.19212091503268",
         "204"
        ],
        [
         "11",
         "0",
         "11",
         "1.0830483660130719",
         "204"
        ],
        [
         "12",
         "0",
         "12",
         "1.0644150326797386",
         "204"
        ],
        [
         "13",
         "0",
         "13",
         "0.8741467514124293",
         "204"
        ],
        [
         "14",
         "0",
         "14",
         "0.7566348509485095",
         "205"
        ],
        [
         "15",
         "0",
         "15",
         "0.734080650406504",
         "205"
        ],
        [
         "16",
         "0",
         "16",
         "0.7068408130081301",
         "205"
        ],
        [
         "17",
         "0",
         "17",
         "0.7863149226034633",
         "205"
        ],
        [
         "18",
         "0",
         "18",
         "1.0927816091954026",
         "205"
        ],
        [
         "19",
         "0",
         "19",
         "1.5695113821138214",
         "205"
        ],
        [
         "20",
         "0",
         "20",
         "1.891151613614441",
         "205"
        ],
        [
         "21",
         "0",
         "21",
         "1.9082815764089842",
         "205"
        ],
        [
         "22",
         "0",
         "22",
         "1.390437428689541",
         "205"
        ],
        [
         "23",
         "0",
         "23",
         "0.8438822764227641",
         "205"
        ],
        [
         "24",
         "1",
         "0",
         "0.6079843902439025",
         "205"
        ],
        [
         "25",
         "1",
         "1",
         "0.4672039024390244",
         "205"
        ],
        [
         "26",
         "1",
         "2",
         "0.43902504065040654",
         "205"
        ],
        [
         "27",
         "1",
         "3",
         "0.4258678048780488",
         "205"
        ],
        [
         "28",
         "1",
         "4",
         "0.4397660077021823",
         "205"
        ],
        [
         "29",
         "1",
         "5",
         "0.4271258536585367",
         "205"
        ],
        [
         "30",
         "1",
         "6",
         "0.8566819512195122",
         "205"
        ],
        [
         "31",
         "1",
         "7",
         "1.686487642276423",
         "205"
        ],
        [
         "32",
         "1",
         "8",
         "1.606509756097561",
         "205"
        ],
        [
         "33",
         "1",
         "9",
         "1.3424817886178866",
         "205"
        ],
        [
         "34",
         "1",
         "10",
         "1.226430948509485",
         "205"
        ],
        [
         "35",
         "1",
         "11",
         "1.248820487804878",
         "205"
        ],
        [
         "36",
         "1",
         "12",
         "1.2470288253434259",
         "205"
        ],
        [
         "37",
         "1",
         "13",
         "1.200677723577236",
         "205"
        ],
        [
         "38",
         "1",
         "14",
         "1.014514373370149",
         "205"
        ],
        [
         "39",
         "1",
         "15",
         "0.9287950980392157",
         "204"
        ],
        [
         "40",
         "1",
         "16",
         "0.868517367342417",
         "204"
        ],
        [
         "41",
         "1",
         "17",
         "0.9146037581699346",
         "204"
        ],
        [
         "42",
         "1",
         "18",
         "1.1682694444444444",
         "204"
        ],
        [
         "43",
         "1",
         "19",
         "1.5863156685694515",
         "205"
        ],
        [
         "44",
         "1",
         "20",
         "1.8654382113821137",
         "205"
        ],
        [
         "45",
         "1",
         "21",
         "1.8412893075413512",
         "205"
        ],
        [
         "46",
         "1",
         "22",
         "1.4638797385620914",
         "204"
        ],
        [
         "47",
         "1",
         "23",
         "0.8005408496732027",
         "204"
        ],
        [
         "48",
         "2",
         "0",
         "0.563741503267974",
         "204"
        ],
        [
         "49",
         "2",
         "1",
         "0.4875321895424838",
         "204"
        ]
       ],
       "shape": {
        "columns": 4,
        "rows": 168
       }
      },
      "text/html": [
       "<div>\n",
       "<style scoped>\n",
       "    .dataframe tbody tr th:only-of-type {\n",
       "        vertical-align: middle;\n",
       "    }\n",
       "\n",
       "    .dataframe tbody tr th {\n",
       "        vertical-align: top;\n",
       "    }\n",
       "\n",
       "    .dataframe thead th {\n",
       "        text-align: right;\n",
       "    }\n",
       "</style>\n",
       "<table border=\"1\" class=\"dataframe\">\n",
       "  <thead>\n",
       "    <tr style=\"text-align: right;\">\n",
       "      <th></th>\n",
       "      <th>dia_semana</th>\n",
       "      <th>hora</th>\n",
       "      <th>mean</th>\n",
       "      <th>count</th>\n",
       "    </tr>\n",
       "  </thead>\n",
       "  <tbody>\n",
       "    <tr>\n",
       "      <th>0</th>\n",
       "      <td>0</td>\n",
       "      <td>0</td>\n",
       "      <td>0.531491</td>\n",
       "      <td>203</td>\n",
       "    </tr>\n",
       "    <tr>\n",
       "      <th>1</th>\n",
       "      <td>0</td>\n",
       "      <td>1</td>\n",
       "      <td>0.450318</td>\n",
       "      <td>203</td>\n",
       "    </tr>\n",
       "    <tr>\n",
       "      <th>2</th>\n",
       "      <td>0</td>\n",
       "      <td>2</td>\n",
       "      <td>0.413212</td>\n",
       "      <td>203</td>\n",
       "    </tr>\n",
       "    <tr>\n",
       "      <th>3</th>\n",
       "      <td>0</td>\n",
       "      <td>3</td>\n",
       "      <td>0.423549</td>\n",
       "      <td>203</td>\n",
       "    </tr>\n",
       "    <tr>\n",
       "      <th>4</th>\n",
       "      <td>0</td>\n",
       "      <td>4</td>\n",
       "      <td>0.428248</td>\n",
       "      <td>203</td>\n",
       "    </tr>\n",
       "    <tr>\n",
       "      <th>...</th>\n",
       "      <td>...</td>\n",
       "      <td>...</td>\n",
       "      <td>...</td>\n",
       "      <td>...</td>\n",
       "    </tr>\n",
       "    <tr>\n",
       "      <th>163</th>\n",
       "      <td>6</td>\n",
       "      <td>19</td>\n",
       "      <td>2.026754</td>\n",
       "      <td>202</td>\n",
       "    </tr>\n",
       "    <tr>\n",
       "      <th>164</th>\n",
       "      <td>6</td>\n",
       "      <td>20</td>\n",
       "      <td>2.157163</td>\n",
       "      <td>202</td>\n",
       "    </tr>\n",
       "    <tr>\n",
       "      <th>165</th>\n",
       "      <td>6</td>\n",
       "      <td>21</td>\n",
       "      <td>2.089381</td>\n",
       "      <td>203</td>\n",
       "    </tr>\n",
       "    <tr>\n",
       "      <th>166</th>\n",
       "      <td>6</td>\n",
       "      <td>22</td>\n",
       "      <td>1.387676</td>\n",
       "      <td>203</td>\n",
       "    </tr>\n",
       "    <tr>\n",
       "      <th>167</th>\n",
       "      <td>6</td>\n",
       "      <td>23</td>\n",
       "      <td>0.834612</td>\n",
       "      <td>203</td>\n",
       "    </tr>\n",
       "  </tbody>\n",
       "</table>\n",
       "<p>168 rows × 4 columns</p>\n",
       "</div>"
      ],
      "text/plain": [
       "     dia_semana  hora      mean  count\n",
       "0             0     0  0.531491    203\n",
       "1             0     1  0.450318    203\n",
       "2             0     2  0.413212    203\n",
       "3             0     3  0.423549    203\n",
       "4             0     4  0.428248    203\n",
       "..          ...   ...       ...    ...\n",
       "163           6    19  2.026754    202\n",
       "164           6    20  2.157163    202\n",
       "165           6    21  2.089381    203\n",
       "166           6    22  1.387676    203\n",
       "167           6    23  0.834612    203\n",
       "\n",
       "[168 rows x 4 columns]"
      ]
     },
     "execution_count": 20,
     "metadata": {},
     "output_type": "execute_result"
    }
   ],
   "source": [
    "# Completar aquí\n",
    "resumen_horario_dia.reset_index(inplace=True)\n",
    "# --------------------\n",
    "resumen_horario_dia"
   ]
  },
  {
   "cell_type": "markdown",
   "metadata": {},
   "source": [
    "Procedemos a la representación gráfica"
   ]
  },
  {
   "cell_type": "code",
   "execution_count": 23,
   "metadata": {},
   "outputs": [
    {
     "data": {
      "image/png": "[encoded data removed]",
      "text/plain": [
       "<Figure size 640x480 with 1 Axes>"
      ]
     },
     "metadata": {},
     "output_type": "display_data"
    }
   ],
   "source": [
    "# Completar aquí\n",
    "dias = [\"Lunes\", \"Martes\", \"Miércoles\", \"Jueves\", \"Viernes\", \"Sábado\", \"Domingo\"]\n",
    "fig, ax = plt.subplots()\n",
    "for i in range(len(dias)):\n",
    "    ax.plot(resumen_horario_dia[resumen_horario_dia[\"dia_semana\"] == i][\"hora\"], \n",
    "            resumen_horario_dia[resumen_horario_dia[\"dia_semana\"] == i][\"mean\"], \n",
    "            label=dias[i])\n",
    "\n",
    "ax.legend()\n",
    "plt.show()\n",
    "\n",
    "# --------------------\n",
    "\n"
   ]
  },
  {
   "cell_type": "markdown",
   "metadata": {},
   "source": [
    "Qué conclusión sacáis sobre el patrón de consumo de la familia según lso días de la semana?"
   ]
  }
 ],
 "metadata": {
  "kernelspec": {
   "display_name": "base",
   "language": "python",
   "name": "python3"
  },
  "language_info": {
   "codemirror_mode": {
    "name": "ipython",
    "version": 3
   },
   "file_extension": ".py",
   "mimetype": "text/x-python",
   "name": "python",
   "nbconvert_exporter": "python",
   "pygments_lexer": "ipython3",
   "version": "3.12.7"
  }
 },
 "nbformat": 4,
 "nbformat_minor": 4
}
