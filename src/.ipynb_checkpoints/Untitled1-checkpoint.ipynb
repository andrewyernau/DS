{
 "cells": [
  {
   "cell_type": "markdown",
   "id": "8a7f3fee-f861-4e69-befe-a65d58f0b975",
   "metadata": {},
   "source": [
    "# Ejemplo de bloc de notas\n",
    "En este bloc de notas, se ilustran diferentes opciones de Markdown Podéis tomar como referencia: <https://guides.github.com/features/mastering-markdown/>\n",
    "\n",
    "En un bloc de notas Jupyter, se pueden combinar:\n",
    "\n",
    "- celdas con formato Markdown, que permiten incluir textos descriptivos, imágenes, enlaces, etc...\n",
    "- celdas con código Python, que se pueden ejecutar. La salida del código de una celda está incorporada en el documento.\n",
    "A continuación tiene un ejemplo básico de una celda de código:"
   ]
  },
  {
   "cell_type": "code",
   "execution_count": null,
   "id": "50654357-ff19-4c19-84b1-0a6c12f5d65c",
   "metadata": {},
   "outputs": [],
   "source": [
    "print('Hello world!')"
   ]
  },
  {
   "cell_type": "markdown",
   "id": "35c1337c-0fd9-4cce-bebe-d0337a905798",
   "metadata": {},
   "source": [
    "# Representación de la triangulación de Delaunay\n",
    "Según la página de la ![Wikipedia](https://es.wikipedia.org/wiki/Wikipedia:Portada),\n",
    ">Una triangulación de Delaunay (pronunciado /dəlo'ne/, a veces escrito fonéticamente «Deloné»), es una red de triángulos conexa y convexa que cumple la condición de Delaunay. Esta condición dice que la circunferencia circunscrita de cada triángulo de la red no debe contener ningún vértice de otro triángulo. Las triangulaciones de Delaunay tienen importante relevancia en el campo de la geometría computacional, especialmente en gráficos 3D por computadora.)\n",
    "\n",
    "Es uno de los ejemplos disponible en la galería de `matplotlib`. La fuente del código siguiente es: ![enlace](https://matplotlib.org/3.2.0/gallery/images_contours_and_fields/triplot_demo.html#sphx-glr-gallery-images-contours-and-fields-triplot-demo-py)\n"
   ]
  },
  {
   "cell_type": "code",
   "execution_count": null,
   "id": "c7eff0a1-2a36-4f34-b1cb-c4dd9793e16d",
   "metadata": {},
   "outputs": [],
   "source": [
    "import matplotlib.pyplot as plt\n",
    "import matplotlib.tri as tri\n",
    "import numpy as np\n",
    "# First create the x and y coordinates of the points.\n",
    "n_angles = 36\n",
    "n_radii = 8\n",
    "min_radius = 0.25\n",
    "radii = np.linspace(min_radius, 0.95, n_radii)\n",
    "\n",
    "angles = np.linspace(0, 2 * np.pi, n_angles, endpoint=False)\n",
    "angles = np.repeat(angles[..., np.newaxis], n_radii, axis=1)\n",
    "angles[:, 1::2] += np.pi / n_angles\n",
    "\n",
    "x = (radii * np.cos(angles)).flatten()\n",
    "y = (radii * np.sin(angles)).flatten()\n",
    "\n",
    "# Create the Triangulation; no triangles so Delaunay triangulation created.\n",
    "triang = tri.Triangulation(x, y)\n",
    "\n",
    "# Mask off unwanted triangles.\n",
    "triang.set_mask(np.hypot(x[triang.triangles].mean(axis=1),\n",
    "                         y[triang.triangles].mean(axis=1))\n",
    "                < min_radius)\n",
    "fig1, ax1 = plt.subplots()\n",
    "ax1.set_aspect('equal')\n",
    "ax1.triplot(triang, 'bo-', lw=1)\n",
    "ax1.set_title('triplot of Delaunay triangulation');"
   ]
  },
  {
   "cell_type": "markdown",
   "id": "0ec2e8ba-05e0-46a7-bfc0-4f57d11c3826",
   "metadata": {},
   "source": [
    "# Inclusión de una imagen\n",
    "Es posible incluir una imagen de la que tenemos url. Por ejemplo la situada en <https://multimediarepository.blob.core.windows.net/imagecontainer/e98beb88565345ef89cdbe88a72db802.png>:\n",
    "\n",
    "![img](https://multimediarepository.blob.core.windows.net/imagecontainer/e98beb88565345ef89cdbe88a72db802.png)\n",
    "\n",
    "# Fórmulas matemáticas con Latex\n",
    "Es posible usar código Latex para símbolos y fórmulas matemáticas, por ejemplo $y = \\alpha x + \\beta$\n",
    "\n",
    "# Lo que hemos visto en esta sesión\n",
    "\n",
    "Estos son los temas que hemos visto en esta primera sesión\n",
    "\n",
    "- [x] Presentación de la asignatura, su importancia creciente en una economía cada vez más digital.\n",
    "- [x] Buenas prácticas para conseguir reproducibilidad de nuestros análisis\n",
    "- [x] Estructura de carpetas, blocs de notas, estilo de código. Para este último nuestra referencia es ![PEP 8](https://www.python.org/dev/peps/pep-0008/)\n",
    "- [ ] Instalación de Python con Anaconda"
   ]
  },
  {
   "cell_type": "code",
   "execution_count": null,
   "id": "08f90c3f-5cd0-428e-8e04-544de824dcf2",
   "metadata": {},
   "outputs": [],
   "source": []
  }
 ],
 "metadata": {
  "kernelspec": {
   "display_name": "Python 3 (ipykernel)",
   "language": "python",
   "name": "python3"
  },
  "language_info": {
   "codemirror_mode": {
    "name": "ipython",
    "version": 3
   },
   "file_extension": ".py",
   "mimetype": "text/x-python",
   "name": "python",
   "nbconvert_exporter": "python",
   "pygments_lexer": "ipython3",
   "version": "3.12.7"
  }
 },
 "nbformat": 4,
 "nbformat_minor": 5
}
