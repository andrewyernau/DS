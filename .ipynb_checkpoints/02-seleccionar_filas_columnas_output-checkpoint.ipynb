{
 "cells": [
  {
   "cell_type": "markdown",
   "id": "0acf1344-04b2-44d2-94c0-e23a61bfb57a",
   "metadata": {},
   "source": [
    "\n",
    "# Manipular filas y columnas de DataFrame en pandas\n",
    "## Pesos de bebes al nacer, EEUU.\n",
    "\n",
    "Inspirado por el libro \"The art of Statistics, learning from data\" by David Spiegelhalter (Pelican, 2020), usaremos datos del \"National Center for Health Statistics, USA\", que publica conjuntos de datos enormes sobre los pesos al nacer de los bebes en EEUU durante muchos años: <https://www.cdc.gov/nchs/data_access/Vitalstatsonline.htm>. El conjunto correspondiente a 2019 es un fichero de texto de 5GB que contiene muchas características (columns) potencialmente relevantes para identificar los factores que influyen en el peso al nacer de un bebe en EEUU..\n",
    "\n",
    "Con el objetivo de facilitar la manipulación de estos datos, se ha preparado un conjunto de datos más simple, con solamente dos columnas:\n",
    "\n",
    "- `OEGest_R3`, que es el \"Obstetric Estimate Recode 3\" con tres valores posibles: 1 (Menor de 37 semanas), 2 (37 semanas o más), 3 (Sin registrar)\n",
    "- `DBWT`, que es \"Birth Weight – Detail in Grams\". Un valor de 9999 indica que no se registró el peso al nacer El fichero es nat2019.csv, que puede encontrar en la carpeta \"data\" del Aula Virtual.\n",
    "\n",
    "Empezad por importar `pandas`, la clase `Path` de `pathlib` y definir `DATA_DIRECTORY`\n"
   ]
  },
  {
   "cell_type": "code",
   "execution_count": null,
   "id": "185262b2-8ecc-4d49-b97c-8518436dc3ed",
   "metadata": {},
   "outputs": [],
   "source": [
    "\n",
    "\n",
    "# Completar aquí\n",
    "\n",
    "# --------------------\n",
    "import pandas as pd\n",
    "from pathlib import Path\n",
    "\n",
    "DATA_DIRECTORY = Path(\"..\",\"data\")\n"
   ]
  },
  {
   "cell_type": "markdown",
   "id": "6f74af67-dce1-4c26-89ab-1f6f72c0016e",
   "metadata": {},
   "source": [
    "\n",
    "\n",
    "Después de cargar el fichero en un DataFrame llamado `pesos`, contestad a las siguientes preguntas:\n",
    "\n",
    "    1. Cuántas filas tiene el conjunto?\n",
    "    2. Cuántos bebes nacieron antes de las 37 semanas?\n",
    "    3. Cuántos datos faltantes de peso presenta el conjunto?\n",
    "\n",
    "Calculad el peso medio de los bebes al nacer en 2019\n"
   ]
  },
  {
   "cell_type": "code",
   "execution_count": null,
   "id": "313d3460-8ae8-43e7-8506-793b5337235b",
   "metadata": {},
   "outputs": [],
   "source": [
    "# Completar aquí\n",
    "\n",
    "# --------------------\n",
    "nat = pd.read_csv(DATA_DIRECTORY / \"nat2019.csv\")"
   ]
  },
  {
   "cell_type": "markdown",
   "id": "7e978500-9035-4baf-b015-fc26565840c6",
   "metadata": {},
   "source": [
    "El peso medio de los bebes al nacer en 2019 en EEUU fue 3254.3g.\n",
    "\n",
    "Calculad el peso medio de los bebes, descartando los que nacieron antes de las 37 semanas."
   ]
  },
  {
   "cell_type": "code",
   "execution_count": null,
   "id": "ce013576-c645-49d0-aa30-611085784990",
   "metadata": {},
   "outputs": [],
   "source": [
    "# Completar aquí\n",
    "\n",
    "# --------------------\n",
    "\n"
   ]
  },
  {
   "cell_type": "markdown",
   "id": "d1185091-1f5d-4c04-8895-90307abc0902",
   "metadata": {},
   "source": [
    "El peso medio de los bebes que nacieron con 37 semanas o más de gestación fue 3361.2g.\n",
    "\n",
    "Calculad el peso medio de los bebes prematuros (que nacieron antes de las 37 semanas)\n"
   ]
  },
  {
   "cell_type": "code",
   "execution_count": null,
   "id": "314f6dda-4439-4220-bc8a-8ff070abf0c7",
   "metadata": {},
   "outputs": [],
   "source": [
    "# Completar aquí\n",
    "\n",
    "# --------------------"
   ]
  },
  {
   "cell_type": "markdown",
   "id": "75622af0-d00a-4cc3-a6a1-198082d877d5",
   "metadata": {},
   "source": [
    "\n",
    "\n",
    "El peso medio de los bebes prematuros fue 2312.5g.\n",
    "\n"
   ]
  },
  {
   "cell_type": "markdown",
   "id": "e56a21cd-e931-417e-84bf-d109102a99aa",
   "metadata": {},
   "source": [
    "\n",
    "## Datos de Calidad del Aire, Mompean, Cartagena\n",
    "\n",
    "Vimos en una práctica anterior el conjunto de datos sobre calidad del aire registrados en la estación de la calle Mompean, a unos metros del Campus de la Muralla de la UPCT. Empezad por cargar los datos en un DataFrame llamado `mompean`, indicando que la columna `FechaHora` es un objeto de tipo DateTime y que la usaremos como `index`.\n"
   ]
  },
  {
   "cell_type": "code",
   "execution_count": null,
   "id": "50672725-28d5-4ea1-aaae-bb8b1bbd78b8",
   "metadata": {},
   "outputs": [],
   "source": []
  }
 ],
 "metadata": {
  "kernelspec": {
   "display_name": "Python 3 (ipykernel)",
   "language": "python",
   "name": "python3"
  },
  "language_info": {
   "codemirror_mode": {
    "name": "ipython",
    "version": 3
   },
   "file_extension": ".py",
   "mimetype": "text/x-python",
   "name": "python",
   "nbconvert_exporter": "python",
   "pygments_lexer": "ipython3",
   "version": "3.13.2"
  }
 },
 "nbformat": 4,
 "nbformat_minor": 5
}
